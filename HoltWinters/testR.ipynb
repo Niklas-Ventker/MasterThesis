{
 "cells": [
  {
   "cell_type": "code",
   "execution_count": 4,
   "metadata": {
    "vscode": {
     "languageId": "r"
    }
   },
   "outputs": [
    {
     "name": "stdout",
     "output_type": "stream",
     "text": [
      "\n",
      "### Dataset energy_generation_solar\n",
      "### Holt-Winters\n",
      "The last smoothed value for energy_generation_solar is: 511.923 \n",
      "The function was executed in 68.51776 seconds\n"
     ]
    }
   ],
   "source": [
    "# Load necessary libraries\n",
    "library(forecast)\n",
    "\n",
    "# Read data\n",
    "#data <- read.csv('/Users/niklas/Documents/GitHub/MasterThesis/0_Data_files/preprocessed_data_files/energy_generation_solar_small.csv', header = TRUE)\n",
    "data <- read.csv('/Users/niklas/Documents/GitHub/MasterThesis/0_Data_files/replicated_preprocessed_data_files/energy_generation_solar.csv', header = TRUE)\n",
    "\n",
    "data <- ts(data[,1], frequency = 24)  # Convert to time series with hourly frequency\n",
    "\n",
    "# List to store execution times\n",
    "number_of_executions <- 1\n",
    "execution_times <- numeric(number_of_executions)\n",
    "\n",
    "# Smoothing factors\n",
    "alpha <- 0.2\n",
    "beta <- 0.1\n",
    "gamma <- 0.3\n",
    "season_length <- 24  # Season = 1 day for 1 value per hour\n",
    "\n",
    "# Holt-Winters\n",
    "for (i in 1:number_of_executions) {\n",
    "  # Start the timer\n",
    "  start_time <- Sys.time()\n",
    "\n",
    "  # Fit the Holt-Winters model\n",
    "  hw_model <- HoltWinters(data, alpha = alpha, beta = beta, gamma = gamma)\n",
    "\n",
    "  # Get smoothed values\n",
    "  smoothed_values <- fitted(hw_model)\n",
    "\n",
    "  # Get the last smoothed value\n",
    "  last_smoothed_value <- tail(smoothed_values[,1], 1)\n",
    "  \n",
    "  # Stop the timer\n",
    "  end_time <- Sys.time()\n",
    "  \n",
    "  # Calculate function time\n",
    "  execution_times[i] <- as.numeric(difftime(end_time, start_time, units = \"secs\"))\n",
    "}\n",
    "\n",
    "# Calculate the function time\n",
    "function_time <- mean(execution_times)\n",
    "\n",
    "# Print results\n",
    "cat(\"\\n### Dataset energy_generation_solar\\n\")\n",
    "cat(\"### Holt-Winters\\n\")\n",
    "cat(\"The last smoothed value for energy_generation_solar is:\", last_smoothed_value, \"\\n\")\n",
    "cat(\"The function was executed in\", function_time, \"seconds\\n\")\n"
   ]
  },
  {
   "cell_type": "code",
   "execution_count": 13,
   "metadata": {
    "vscode": {
     "languageId": "r"
    }
   },
   "outputs": [
    {
     "name": "stdout",
     "output_type": "stream",
     "text": [
      "\n",
      "### Dataset energy_generation_solar\n",
      "### Holt-Winters\n",
      "The last smoothed value for energy_generation_solar is: 100.5918 \n",
      "The function was executed in 10.079 seconds\n"
     ]
    }
   ],
   "source": [
    "# Load necessary libraries\n",
    "library(forecast)\n",
    "\n",
    "# Read data\n",
    "#data <- read.csv('/Users/niklas/Documents/GitHub/MasterThesis/0_Data_files/preprocessed_data_files/energy_generation_solar_small.csv', header = TRUE)\n",
    "data <- read.csv('/Users/niklas/Documents/GitHub/MasterThesis/0_Data_files/replicated_preprocessed_data_files/heart_rate.csv', header = TRUE)\n",
    "\n",
    "data <- ts(data[,1])  # Convert to time series \n",
    "\n",
    "# List to store execution times\n",
    "number_of_executions <- 1\n",
    "execution_times <- numeric(number_of_executions)\n",
    "\n",
    "# Smoothing factors\n",
    "alpha <- 0.7\n",
    "beta <- FALSE\n",
    "gamma <- FALSE\n",
    "\n",
    "# Holt-Winters\n",
    "for (i in 1:number_of_executions) {\n",
    "  # Start the timer\n",
    "  start_time <- Sys.time()\n",
    "\n",
    "  # Fit the Holt-Winters model\n",
    "  hw_model <- HoltWinters(data, alpha = alpha, beta = beta, gamma = gamma)\n",
    "\n",
    "  # Get smoothed values\n",
    "  smoothed_values <- fitted(hw_model)\n",
    "\n",
    "  # Get the last smoothed value\n",
    "  last_smoothed_value <- tail(smoothed_values[,1], 1)\n",
    "  \n",
    "  # Stop the timer\n",
    "  end_time <- Sys.time()\n",
    "  \n",
    "  # Calculate function time\n",
    "  execution_times[i] <- as.numeric(difftime(end_time, start_time, units = \"secs\"))\n",
    "}\n",
    "\n",
    "# Calculate the function time\n",
    "function_time <- mean(execution_times)\n",
    "\n",
    "# Print results\n",
    "cat(\"\\n### Dataset energy_generation_solar\\n\")\n",
    "cat(\"### Holt-Winters\\n\")\n",
    "cat(\"The last smoothed value for energy_generation_solar is:\", last_smoothed_value, \"\\n\")\n",
    "cat(\"The function was executed in\", function_time, \"seconds\\n\")\n"
   ]
  }
 ],
 "metadata": {
  "kernelspec": {
   "display_name": "R",
   "language": "R",
   "name": "ir"
  },
  "language_info": {
   "codemirror_mode": "r",
   "file_extension": ".r",
   "mimetype": "text/x-r-source",
   "name": "R",
   "pygments_lexer": "r",
   "version": "4.4.1"
  }
 },
 "nbformat": 4,
 "nbformat_minor": 2
}
