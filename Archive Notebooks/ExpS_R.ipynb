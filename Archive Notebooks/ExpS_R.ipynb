{
 "cells": [
  {
   "cell_type": "markdown",
   "metadata": {},
   "source": [
    "# Exponential Smoothing: R\n",
    "First Expermiments"
   ]
  },
  {
   "cell_type": "code",
   "execution_count": null,
   "metadata": {
    "vscode": {
     "languageId": "r"
    }
   },
   "outputs": [
    {
     "name": "stdout",
     "output_type": "stream",
     "text": [
      "\n",
      "Die heruntergeladenen Bin\"arpakete sind in \n",
      "\t/var/folders/pm/6f9n9_w51yd38ctgl768_xlh0000gn/T//RtmplcdFgE/downloaded_packages\n"
     ]
    },
    {
     "name": "stderr",
     "output_type": "stream",
     "text": [
      "installiere auch Abh\"angigkeit 'iterators'\n",
      "\n",
      "\n"
     ]
    },
    {
     "name": "stdout",
     "output_type": "stream",
     "text": [
      "\n",
      "Die heruntergeladenen Bin\"arpakete sind in \n",
      "\t/var/folders/pm/6f9n9_w51yd38ctgl768_xlh0000gn/T//RtmplcdFgE/downloaded_packages\n",
      "\n",
      "Die heruntergeladenen Bin\"arpakete sind in \n",
      "\t/var/folders/pm/6f9n9_w51yd38ctgl768_xlh0000gn/T//RtmplcdFgE/downloaded_packages\n",
      "\n",
      "Die heruntergeladenen Bin\"arpakete sind in \n",
      "\t/var/folders/pm/6f9n9_w51yd38ctgl768_xlh0000gn/T//RtmplcdFgE/downloaded_packages\n"
     ]
    },
    {
     "name": "stderr",
     "output_type": "stream",
     "text": [
      "installiere auch Abh\"angigkeit 'bit'\n",
      "\n",
      "\n"
     ]
    },
    {
     "name": "stdout",
     "output_type": "stream",
     "text": [
      "\n",
      "Die heruntergeladenen Bin\"arpakete sind in \n",
      "\t/var/folders/pm/6f9n9_w51yd38ctgl768_xlh0000gn/T//RtmplcdFgE/downloaded_packages\n"
     ]
    }
   ],
   "source": [
    "install.packages(\"data.table\")\n",
    "install.packages(\"foreach\")\n",
    "install.packages(\"doParallel\")\n",
    "install.packages(\"iterators\")\n",
    "install.packages(\"bit64\")\n"
   ]
  },
  {
   "cell_type": "markdown",
   "metadata": {},
   "source": [
    "___\n",
    "___\n",
    "## Dataset Wind Turbine: Wind Speed"
   ]
  },
  {
   "cell_type": "markdown",
   "metadata": {},
   "source": [
    "https://www.kaggle.com/datasets/berkerisen/wind-turbine-scada-dataset"
   ]
  },
  {
   "cell_type": "code",
   "execution_count": 2,
   "metadata": {
    "vscode": {
     "languageId": "r"
    }
   },
   "outputs": [
    {
     "name": "stdout",
     "output_type": "stream",
     "text": [
      "Dataframe wind_speed has 25265000 rows."
     ]
    }
   ],
   "source": [
    "# Read the CSV file into a data frame\n",
    "data <- read.csv(\"/Users/niklas/Documents/GitHub/Uni/10_Masterarbeit/data_files/wind_turbine_scada.csv\", header = TRUE)\n",
    "\n",
    "# Extract the wind speed column (assuming it's the third column)\n",
    "wind_speed <- data[, 3]\n",
    "\n",
    "# Remove NA values\n",
    "wind_speed <- na.omit(wind_speed)\n",
    "\n",
    "# Replication factor\n",
    "factor <- 500\n",
    "\n",
    "# Replicate the wind_speed vector\n",
    "replicated_wind_speed <- rep(wind_speed, times = factor)\n",
    "\n",
    "# Print the size of the replicated data\n",
    "cat(\"Dataframe wind_speed has\", length(replicated_wind_speed), \"rows.\")\n"
   ]
  },
  {
   "cell_type": "markdown",
   "metadata": {},
   "source": [
    "___\n",
    "### #1 Basic For Loop"
   ]
  },
  {
   "cell_type": "code",
   "execution_count": 3,
   "metadata": {
    "vscode": {
     "languageId": "r"
    }
   },
   "outputs": [
    {
     "name": "stdout",
     "output_type": "stream",
     "text": [
      "### Dataset wind_speed\n",
      "### #1 Basic For Loop \n",
      "\n",
      "The last smoothed value for wind_speed is: 9.729056 \n",
      "The function was executed in 0.001644 seconds"
     ]
    }
   ],
   "source": [
    "# Alpha is the smoothing factor\n",
    "alpha <- 0.7\n",
    "\n",
    "# Vector to store execution times\n",
    "number_of_executions <- 10\n",
    "execution_times <- numeric(number_of_executions)\n",
    "\n",
    "# Perform exponential smoothing on the data\n",
    "for (i in 1:number_of_executions) {\n",
    "  start_time <- Sys.time()\n",
    "\n",
    "  # Initialize the smoothed value with the first data point\n",
    "  smoothed_value <- wind_speed[1]\n",
    "\n",
    "  # Perform exponential smoothing on the data\n",
    "  for (j in 2:length(wind_speed)) {\n",
    "    smoothed_value <- alpha * wind_speed[j] + (1 - alpha) * smoothed_value\n",
    "  }\n",
    "\n",
    "  # Stop the timer\n",
    "  end_time <- Sys.time()\n",
    "  execution_times[i] <- as.numeric(difftime(end_time, start_time, units = \"secs\")) # nolint\n",
    "}\n",
    "\n",
    "# Calculate the function time\n",
    "function_time <- median(execution_times)\n",
    "\n",
    "# Print the results\n",
    "cat(\"### Dataset wind_speed\\n\")\n",
    "cat(\"### #1 Basic For Loop \\n\\n\")\n",
    "cat(\"The last smoothed value for wind_speed is:\", smoothed_value, \"\\n\")\n",
    "cat(sprintf(\"The function was executed in %f seconds\", function_time))\n"
   ]
  },
  {
   "cell_type": "markdown",
   "metadata": {},
   "source": [
    "___\n",
    "### #2 Vectorized"
   ]
  },
  {
   "cell_type": "code",
   "execution_count": 4,
   "metadata": {
    "vscode": {
     "languageId": "r"
    }
   },
   "outputs": [
    {
     "name": "stdout",
     "output_type": "stream",
     "text": [
      "### Dataset wind_speed\n",
      "### #2 Vectorized \n",
      "\n",
      "The last smoothed value for wind_speed is: 9.729056 \n",
      "The function was executed in 0.001210 seconds"
     ]
    }
   ],
   "source": [
    "# Alpha is the smoothing factor\n",
    "alpha <- 0.7\n",
    "\n",
    "# Vector to store execution times\n",
    "number_of_executions <- 10\n",
    "execution_times <- numeric(number_of_executions)\n",
    "\n",
    "# Perform exponential smoothing on the data\n",
    "for (i in 1:number_of_executions) {\n",
    "    start_time <- Sys.time()\n",
    "\n",
    "    # Perform exponential smoothing on the data\n",
    "    n <- length(wind_speed)\n",
    "    weights <- alpha * (1 - alpha)**rev(seq_len(n) - 1)\n",
    "    smoothed <- rev(cumsum(rev(weights * wind_speed)))\n",
    "    smoothed_value <- smoothed[1] / sum(weights)\n",
    "\n",
    "    # Stop the timer\n",
    "    end_time <- Sys.time()\n",
    "    execution_times[i] <- as.numeric(difftime(end_time, start_time, units = \"secs\"))\n",
    "}\n",
    "\n",
    "# Calculate the function time\n",
    "function_time <- median(execution_times)\n",
    "\n",
    "# Print the results\n",
    "cat(\"### Dataset wind_speed\\n\")\n",
    "cat(\"### #2 Vectorized \\n\\n\")\n",
    "cat(\"The last smoothed value for wind_speed is:\", smoothed_value, \"\\n\")\n",
    "cat(sprintf(\"The function was executed in %f seconds\", function_time))\n"
   ]
  },
  {
   "cell_type": "markdown",
   "metadata": {},
   "source": [
    "___\n",
    "### #3 Parallelized For Loop"
   ]
  },
  {
   "cell_type": "code",
   "execution_count": 27,
   "metadata": {
    "vscode": {
     "languageId": "r"
    }
   },
   "outputs": [
    {
     "name": "stdout",
     "output_type": "stream",
     "text": [
      "### Dataset wind_speed\n",
      "### #3 Parallelized For Loop \n",
      "\n",
      "The last smoothed value for wind_speed is: 9.729056 \n",
      "The function was executed in 0.028300 seconds"
     ]
    }
   ],
   "source": [
    "library(parallel)\n",
    "\n",
    "# Define the smoothing function\n",
    "smooth_wind_speed <- function(wind_speed, alpha) {\n",
    "    smoothed_value <- wind_speed[1]\n",
    "    for (i in 2:length(wind_speed)) {\n",
    "        smoothed_value <- alpha * wind_speed[i] + (1 - alpha) * smoothed_value\n",
    "    }\n",
    "    return(smoothed_value)\n",
    "}\n",
    "\n",
    "# Alpha is the smoothing factor\n",
    "alpha <- 0.7\n",
    "\n",
    "# Number of executions\n",
    "number_of_executions <- 10\n",
    "\n",
    "# Vector to store execution times\n",
    "execution_times <- numeric()\n",
    "\n",
    "# Set up parallel computing\n",
    "cores <- detectCores() - 1\n",
    "cl <- makeCluster(cores)\n",
    "clusterExport(cl, varlist = c(\"wind_speed\", \"alpha\", \"smooth_wind_speed\"))\n",
    "\n",
    "# Perform exponential smoothing on the data in parallel\n",
    "results <- parLapply(cl, 1:number_of_executions, function(i) {\n",
    "  start_time <- Sys.time()\n",
    "\n",
    "  # Perform exponential smoothing on the data\n",
    "  last_smoothed_value <- smooth_wind_speed(wind_speed, alpha)\n",
    "\n",
    "  # Stop the timer\n",
    "  end_time <- Sys.time()\n",
    "  execution_time <- as.numeric(difftime(end_time, start_time, units = \"secs\"))\n",
    "  return(list(smoothed_value = last_smoothed_value, execution_time = execution_time))\n",
    "})\n",
    "\n",
    "# Stop the cluster\n",
    "stopCluster(cl)\n",
    "\n",
    "# Extract execution times and calculate the function time\n",
    "execution_times <- sapply(results, function(x) x$execution_time)\n",
    "function_time <- median(execution_times)\n",
    "\n",
    "# Print the results\n",
    "cat(\"### Dataset wind_speed\\n\")\n",
    "cat(\"### #3 Parallelized For Loop \\n\\n\")\n",
    "cat(\"The last smoothed value for wind_speed is:\", results[[1]]$smoothed_value, \"\\n\")\n",
    "cat(sprintf(\"The function was executed in %f seconds\", function_time))\n"
   ]
  },
  {
   "cell_type": "markdown",
   "metadata": {},
   "source": [
    "___\n",
    "### #4 Parallelized Vectorized"
   ]
  },
  {
   "cell_type": "code",
   "execution_count": 6,
   "metadata": {
    "vscode": {
     "languageId": "r"
    }
   },
   "outputs": [
    {
     "name": "stdout",
     "output_type": "stream",
     "text": [
      "### Dataset wind_speed\n",
      "### #4 Parallelized Vectorized \n",
      "\n",
      "The last smoothed value for wind_speed is: 9.729056 \n",
      "The function was executed in 0.002033 seconds"
     ]
    }
   ],
   "source": [
    "library(parallel)\n",
    "\n",
    "# Define the smoothing function with vectorized operations\n",
    "smooth_wind_speed <- function(wind_speed, alpha) {\n",
    "  n <- length(wind_speed)\n",
    "  weights <- alpha * (1 - alpha)**rev(seq_len(n) - 1)\n",
    "  smoothed <- rev(cumsum(rev(weights * wind_speed)))\n",
    "  smoothed_value <- smoothed[1] / sum(weights)\n",
    "  return(smoothed_value)\n",
    "}\n",
    "\n",
    "# Alpha is the smoothing factor\n",
    "alpha <- 0.7\n",
    "\n",
    "# Number of executions\n",
    "number_of_executions <- 10\n",
    "\n",
    "# Vector to store execution times\n",
    "execution_times <- numeric()\n",
    "\n",
    "# Set up parallel computing\n",
    "no_cores <- detectCores() - 1\n",
    "cl <- makeCluster(no_cores)\n",
    "clusterExport(cl, varlist = c(\"wind_speed\", \"alpha\", \"smooth_wind_speed\"))\n",
    "\n",
    "# Perform exponential smoothing on the data in parallel\n",
    "results <- parLapply(cl, 1:number_of_executions, function(i) {\n",
    "  start_time <- Sys.time()\n",
    "\n",
    "  # Perform exponential smoothing on the data\n",
    "  last_smoothed_value <- smooth_wind_speed(wind_speed, alpha)\n",
    "\n",
    "  # Stop the timer\n",
    "  end_time <- Sys.time()\n",
    "  execution_time <- as.numeric(difftime(end_time, start_time, units = \"secs\"))\n",
    "  return(list(smoothed_value = last_smoothed_value, execution_time = execution_time))\n",
    "})\n",
    "\n",
    "# Stop the cluster\n",
    "stopCluster(cl)\n",
    "\n",
    "# Extract execution times and calculate the function time\n",
    "execution_times <- sapply(results, function(x) x$execution_time)\n",
    "function_time <- median(execution_times)\n",
    "\n",
    "# Print the results\n",
    "cat(\"### Dataset wind_speed\\n\")\n",
    "cat(\"### #4 Parallelized Vectorized \\n\\n\")\n",
    "cat(\"The last smoothed value for wind_speed is:\", results[[1]]$smoothed_value, \"\\n\")\n",
    "cat(sprintf(\"The function was executed in %f seconds\", function_time))\n"
   ]
  },
  {
   "cell_type": "markdown",
   "metadata": {},
   "source": [
    "___\n",
    "___\n",
    "## Energy Dataset: Solar energy production"
   ]
  },
  {
   "cell_type": "code",
   "execution_count": 7,
   "metadata": {
    "vscode": {
     "languageId": "r"
    }
   },
   "outputs": [
    {
     "name": "stdout",
     "output_type": "stream",
     "text": [
      "Dataframe generation_solar has 49064400 rows."
     ]
    }
   ],
   "source": [
    "# Read the CSV file into a data frame\n",
    "data <- read.csv(\"/Users/niklas/Documents/GitHub/Uni/10_Masterarbeit/data_files/energy_dataset.csv\", header = TRUE)\n",
    "\n",
    "# Extract the generation_solar column\n",
    "generation_solar <- data[, 19]\n",
    "\n",
    "# Remove NA values\n",
    "generation_solar <- na.omit(generation_solar)\n",
    "\n",
    "# Replication factor\n",
    "factor <- 1400\n",
    "\n",
    "# Replicate the generation_solar vector\n",
    "generation_solar <- rep(generation_solar, times = factor)\n",
    "\n",
    "# Print the size of the replicated data\n",
    "cat(\"Dataframe generation_solar has\", length(generation_solar), \"rows.\")\n"
   ]
  },
  {
   "cell_type": "markdown",
   "metadata": {},
   "source": [
    "___\n",
    "### #1 Basic For Loop"
   ]
  },
  {
   "cell_type": "code",
   "execution_count": 8,
   "metadata": {
    "vscode": {
     "languageId": "r"
    }
   },
   "outputs": [
    {
     "name": "stdout",
     "output_type": "stream",
     "text": [
      "### Dataset generation_solar\n",
      "### #1 Basic For Loop \n",
      "\n",
      "The last smoothed value for generation_solar is: 33.09027 \n",
      "The function was executed in 1.364029 seconds"
     ]
    }
   ],
   "source": [
    "# Alpha is the smoothing factor\n",
    "alpha <- 0.7\n",
    "\n",
    "# Vector to store execution times\n",
    "number_of_executions <- 10\n",
    "execution_times <- numeric(number_of_executions)\n",
    "\n",
    "# Perform exponential smoothing on the data\n",
    "for (i in 1:number_of_executions) {\n",
    "  start_time <- Sys.time()\n",
    "\n",
    "  # Initialize the smoothed value with the first data point\n",
    "  smoothed_value <- generation_solar[1]\n",
    "\n",
    "  # Perform exponential smoothing on the data\n",
    "  for (j in 2:length(generation_solar)) {\n",
    "    smoothed_value <- alpha * generation_solar[j] + (1 - alpha) * smoothed_value\n",
    "  }\n",
    "\n",
    "  # Stop the timer\n",
    "  end_time <- Sys.time()\n",
    "  execution_times[i] <- as.numeric(difftime(end_time, start_time, units = \"secs\")) # nolint\n",
    "}\n",
    "\n",
    "# Calculate the function time\n",
    "function_time <- median(execution_times)\n",
    "\n",
    "# Print the results\n",
    "cat(\"### Dataset generation_solar\\n\")\n",
    "cat(\"### #1 Basic For Loop \\n\\n\")\n",
    "cat(\"The last smoothed value for generation_solar is:\", smoothed_value, \"\\n\")\n",
    "cat(sprintf(\"The function was executed in %f seconds\", function_time))\n"
   ]
  },
  {
   "cell_type": "markdown",
   "metadata": {},
   "source": [
    "___\n",
    "### #2 Vectorized"
   ]
  },
  {
   "cell_type": "code",
   "execution_count": 9,
   "metadata": {
    "vscode": {
     "languageId": "r"
    }
   },
   "outputs": [
    {
     "name": "stdout",
     "output_type": "stream",
     "text": [
      "### Dataset generation_solar\n",
      "### #2 Vectorized \n",
      "\n",
      "The last smoothed value for generation_solar is: 33.09027 \n",
      "The function was executed in 1.958074 seconds"
     ]
    }
   ],
   "source": [
    "# Alpha is the smoothing factor\n",
    "alpha <- 0.7\n",
    "\n",
    "# Vector to store execution times\n",
    "number_of_executions <- 10\n",
    "execution_times <- numeric(number_of_executions)\n",
    "\n",
    "# Perform exponential smoothing on the data\n",
    "for (i in 1:number_of_executions) {\n",
    "    start_time <- Sys.time()\n",
    "\n",
    "    # Perform exponential smoothing on the data\n",
    "    n <- length(generation_solar)\n",
    "    weights <- alpha * (1 - alpha)**rev(seq_len(n) - 1)\n",
    "    smoothed <- rev(cumsum(rev(weights * generation_solar)))\n",
    "    smoothed_value <- smoothed[1] / sum(weights)\n",
    "\n",
    "    # Stop the timer\n",
    "    end_time <- Sys.time()\n",
    "    execution_times[i] <- as.numeric(difftime(end_time, start_time, units = \"secs\"))\n",
    "}\n",
    "\n",
    "# Calculate the function time\n",
    "function_time <- median(execution_times)\n",
    "\n",
    "# Print the results\n",
    "cat(\"### Dataset generation_solar\\n\")\n",
    "cat(\"### #2 Vectorized \\n\\n\")\n",
    "cat(\"The last smoothed value for generation_solar is:\", smoothed_value, \"\\n\")\n",
    "cat(sprintf(\"The function was executed in %f seconds\", function_time))\n"
   ]
  },
  {
   "cell_type": "markdown",
   "metadata": {},
   "source": [
    "___\n",
    "### #3 Parallelized For Loop"
   ]
  },
  {
   "cell_type": "code",
   "execution_count": 10,
   "metadata": {
    "vscode": {
     "languageId": "r"
    }
   },
   "outputs": [
    {
     "name": "stdout",
     "output_type": "stream",
     "text": [
      "### Dataset generation_solar\n",
      "### #3 Parallelized For Loop \n",
      "\n",
      "The last smoothed value for generation_solar is: 33.09027 \n",
      "The function was executed in 2.501423 seconds"
     ]
    }
   ],
   "source": [
    "library(parallel)\n",
    "\n",
    "# Define the smoothing function\n",
    "smooth_generation_solar <- function(generation_solar, alpha) {\n",
    "  smoothed_value <- generation_solar[1]\n",
    "  for (i in 2:length(generation_solar)) {\n",
    "    smoothed_value <- alpha * generation_solar[i] + (1 - alpha) * smoothed_value\n",
    "  }\n",
    "  return(smoothed_value)\n",
    "}\n",
    "\n",
    "# Alpha is the smoothing factor\n",
    "alpha <- 0.7\n",
    "\n",
    "# Number of executions\n",
    "number_of_executions <- 10\n",
    "\n",
    "# Vector to store execution times\n",
    "execution_times <- numeric()\n",
    "\n",
    "# Set up parallel computing\n",
    "cores <- detectCores() - 1\n",
    "cl <- makeCluster(cores)\n",
    "clusterExport(cl, varlist = c(\"generation_solar\", \"alpha\", \"smooth_generation_solar\"))\n",
    "\n",
    "# Perform exponential smoothing on the data in parallel\n",
    "results <- parLapply(cl, 1:number_of_executions, function(i) {\n",
    "  start_time <- Sys.time()\n",
    "\n",
    "  # Perform exponential smoothing on the data\n",
    "  last_smoothed_value <- smooth_generation_solar(generation_solar, alpha)\n",
    "\n",
    "  # Stop the timer\n",
    "  end_time <- Sys.time()\n",
    "  execution_time <- as.numeric(difftime(end_time, start_time, units = \"secs\"))\n",
    "  return(list(smoothed_value = last_smoothed_value, execution_time = execution_time))\n",
    "})\n",
    "\n",
    "# Stop the cluster\n",
    "stopCluster(cl)\n",
    "\n",
    "# Extract execution times and calculate the function time\n",
    "execution_times <- sapply(results, function(x) x$execution_time)\n",
    "function_time <- median(execution_times)\n",
    "\n",
    "# Print the results\n",
    "cat(\"### Dataset generation_solar\\n\")\n",
    "cat(\"### #3 Parallelized For Loop \\n\\n\")\n",
    "cat(\"The last smoothed value for generation_solar is:\", results[[1]]$smoothed_value, \"\\n\")\n",
    "cat(sprintf(\"The function was executed in %f seconds\", function_time))\n"
   ]
  },
  {
   "cell_type": "markdown",
   "metadata": {},
   "source": [
    "___\n",
    "### #4 Parallelized Vectorized"
   ]
  },
  {
   "cell_type": "code",
   "execution_count": 11,
   "metadata": {
    "vscode": {
     "languageId": "r"
    }
   },
   "outputs": [
    {
     "name": "stdout",
     "output_type": "stream",
     "text": [
      "### Dataset generation_solar\n",
      "### #4 Parallelized Vectorized \n",
      "\n",
      "The last smoothed value for generation_solar is: 33.09027 \n",
      "The function was executed in 1.734327 seconds"
     ]
    }
   ],
   "source": [
    "library(parallel)\n",
    "\n",
    "# Define the smoothing function\n",
    "smooth_generation_solar <- function(generation_solar, alpha) {\n",
    "    n <- length(generation_solar)\n",
    "    weights <- alpha * (1 - alpha) ** rev(seq_len(n) - 1)\n",
    "    smoothed <- rev(cumsum(rev(weights * generation_solar)))\n",
    "    smoothed_value <- smoothed[1] / sum(weights)\n",
    "    return(smoothed_value)\n",
    "}\n",
    "\n",
    "# Alpha is the smoothing factor\n",
    "alpha <- 0.7\n",
    "\n",
    "# Vector to store execution times\n",
    "number_of_executions <- 10\n",
    "execution_times <- numeric(number_of_executions)\n",
    "\n",
    "# Set up a cluster of cores\n",
    "no_cores <- detectCores() - 1  # Leave one core free for system processes\n",
    "cl <- makeCluster(no_cores)\n",
    "\n",
    "# Export the necessary variables and functions to the cluster\n",
    "clusterExport(cl, varlist = c(\"generation_solar\", \"alpha\", \"smooth_generation_solar\"))\n",
    "\n",
    "# Perform exponential smoothing on the data\n",
    "for (i in 1:number_of_executions) {\n",
    "    start_time <- Sys.time()\n",
    "\n",
    "    # Perform exponential smoothing on the data\n",
    "    last_smoothed_value <- smooth_generation_solar(generation_solar, alpha)\n",
    "\n",
    "    # Stop the timer\n",
    "    end_time <- Sys.time()\n",
    "    execution_times[i] <- as.numeric(difftime(end_time, start_time, units = \"secs\"))\n",
    "}\n",
    "\n",
    "# Calculate the function time\n",
    "function_time <- median(execution_times)\n",
    "\n",
    "# Stop the cluster\n",
    "stopCluster(cl)\n",
    "\n",
    "# Print the results\n",
    "cat(\"### Dataset generation_solar\\n\")\n",
    "cat(\"### #4 Parallelized Vectorized \\n\\n\")\n",
    "cat(\"The last smoothed value for generation_solar is:\", last_smoothed_value, \"\\n\")\n",
    "cat(sprintf(\"The function was executed in %f seconds\", function_time))\n"
   ]
  },
  {
   "cell_type": "markdown",
   "metadata": {},
   "source": [
    "___\n",
    "___\n",
    "## Dataset: Heart Rate Seconds"
   ]
  },
  {
   "cell_type": "markdown",
   "metadata": {},
   "source": [
    "https://www.kaggle.com/datasets/arashnic/fitbit"
   ]
  },
  {
   "cell_type": "code",
   "execution_count": 12,
   "metadata": {
    "vscode": {
     "languageId": "r"
    }
   },
   "outputs": [
    {
     "name": "stdout",
     "output_type": "stream",
     "text": [
      "Dataframe heart_rate_data has 103921290 rows."
     ]
    }
   ],
   "source": [
    "# Read the CSV file into a data frame\n",
    "data <- read.csv(\"/Users/niklas/Documents/GitHub/Uni/10_Masterarbeit/data_files/heartrate_seconds_merged.csv\", header = TRUE)\n",
    "\n",
    "# Select the 'HR' column and remove missing values\n",
    "heart_rate_data <- data[, 3]\n",
    "\n",
    "# Replication factor\n",
    "factor <- 90\n",
    "\n",
    "# Replicate the heart_rate_data vector\n",
    "heart_rate_data <- rep(heart_rate_data, times = factor)\n",
    "\n",
    "# Print the size of the replicated data\n",
    "cat(\"Dataframe heart_rate_data has\", length(heart_rate_data), \"rows.\")\n"
   ]
  },
  {
   "cell_type": "markdown",
   "metadata": {},
   "source": [
    "___\n",
    "### #1 Basic For Loop "
   ]
  },
  {
   "cell_type": "code",
   "execution_count": 13,
   "metadata": {
    "vscode": {
     "languageId": "r"
    }
   },
   "outputs": [
    {
     "name": "stdout",
     "output_type": "stream",
     "text": [
      "### Dataset heart_rate_data\n",
      "### #1 Basic For Loop \n",
      "\n",
      "The last smoothed value for heart_rate_data is: 98.77753 \n",
      "The function was executed in 2.870266 seconds"
     ]
    }
   ],
   "source": [
    "# Alpha is the smoothing factor\n",
    "alpha <- 0.7\n",
    "\n",
    "# Vector to store execution times\n",
    "number_of_executions <- 10\n",
    "execution_times <- numeric(number_of_executions)\n",
    "\n",
    "# Perform exponential smoothing on the data\n",
    "for (i in 1:number_of_executions) {\n",
    "  start_time <- Sys.time()\n",
    "\n",
    "  # Initialize the smoothed value with the first data point\n",
    "  smoothed_value <- heart_rate_data[1]\n",
    "\n",
    "  # Perform exponential smoothing on the data\n",
    "  for (j in 2:length(heart_rate_data)) {\n",
    "    smoothed_value <- alpha * heart_rate_data[j] + (1 - alpha) * smoothed_value\n",
    "  }\n",
    "\n",
    "  # Stop the timer\n",
    "  end_time <- Sys.time()\n",
    "  execution_times[i] <- as.numeric(difftime(end_time, start_time, units = \"secs\")) # nolint\n",
    "}\n",
    "\n",
    "# Calculate the function time\n",
    "function_time <- median(execution_times)\n",
    "\n",
    "# Print the results\n",
    "cat(\"### Dataset heart_rate_data\\n\")\n",
    "cat(\"### #1 Basic For Loop \\n\\n\")\n",
    "cat(\"The last smoothed value for heart_rate_data is:\", smoothed_value, \"\\n\")\n",
    "cat(sprintf(\"The function was executed in %f seconds\", function_time))\n"
   ]
  },
  {
   "cell_type": "markdown",
   "metadata": {},
   "source": [
    "___\n",
    "### #2 Vectorized"
   ]
  },
  {
   "cell_type": "code",
   "execution_count": 14,
   "metadata": {
    "vscode": {
     "languageId": "r"
    }
   },
   "outputs": [
    {
     "name": "stdout",
     "output_type": "stream",
     "text": [
      "### Dataset heart_rate_data\n",
      "### #2 Vectorized \n",
      "\n",
      "The last smoothed value for heart_rate_data is: 98.77753 \n",
      "The function was executed in 3.351181 seconds"
     ]
    }
   ],
   "source": [
    "# Alpha is the smoothing factor\n",
    "alpha <- 0.7\n",
    "\n",
    "# Vector to store execution times\n",
    "number_of_executions <- 10\n",
    "execution_times <- numeric(number_of_executions)\n",
    "\n",
    "# Perform exponential smoothing on the data\n",
    "for (i in 1:number_of_executions) {\n",
    "    start_time <- Sys.time()\n",
    "\n",
    "    # Perform exponential smoothing on the data\n",
    "    n <- length(heart_rate_data)\n",
    "    weights <- alpha * (1 - alpha)**rev(seq_len(n) - 1)\n",
    "    smoothed <- rev(cumsum(rev(weights * heart_rate_data)))\n",
    "    smoothed_value <- smoothed[1] / sum(weights)\n",
    "\n",
    "    # Stop the timer\n",
    "    end_time <- Sys.time()\n",
    "    execution_times[i] <- as.numeric(difftime(end_time, start_time, units = \"secs\"))\n",
    "}\n",
    "\n",
    "# Calculate the function time\n",
    "function_time <- median(execution_times)\n",
    "\n",
    "# Print the results\n",
    "cat(\"### Dataset heart_rate_data\\n\")\n",
    "cat(\"### #2 Vectorized \\n\\n\")\n",
    "cat(\"The last smoothed value for heart_rate_data is:\", smoothed_value, \"\\n\")\n",
    "cat(sprintf(\"The function was executed in %f seconds\", function_time))\n"
   ]
  },
  {
   "cell_type": "markdown",
   "metadata": {},
   "source": [
    "___\n",
    "### #3 Parallelized For Loop"
   ]
  },
  {
   "cell_type": "code",
   "execution_count": 15,
   "metadata": {
    "vscode": {
     "languageId": "r"
    }
   },
   "outputs": [
    {
     "name": "stdout",
     "output_type": "stream",
     "text": [
      "### Dataset heart_rate_data\n",
      "### #3 Parallelized For Loop \n",
      "\n",
      "The last smoothed value for heart_rate_data is: 98.77753 \n",
      "The function was executed in 5.067736 seconds"
     ]
    }
   ],
   "source": [
    "library(parallel)\n",
    "\n",
    "# Define the smoothing function\n",
    "smooth_heart_rate_data <- function(heart_rate_data, alpha) {\n",
    "  smoothed_value <- heart_rate_data[1]\n",
    "  for (i in 2:length(heart_rate_data)) {\n",
    "    smoothed_value <- alpha * heart_rate_data[i] + (1 - alpha) * smoothed_value\n",
    "  }\n",
    "  return(smoothed_value)\n",
    "}\n",
    "\n",
    "# Alpha is the smoothing factor\n",
    "alpha <- 0.7\n",
    "\n",
    "# Number of executions\n",
    "number_of_executions <- 10\n",
    "\n",
    "# Vector to store execution times\n",
    "execution_times <- numeric()\n",
    "\n",
    "# Set up parallel computing\n",
    "cores <- detectCores() - 1\n",
    "cl <- makeCluster(cores)\n",
    "clusterExport(cl, varlist = c(\"heart_rate_data\", \"alpha\", \"smooth_heart_rate_data\"))\n",
    "\n",
    "# Perform exponential smoothing on the data in parallel\n",
    "results <- parLapply(cl, 1:number_of_executions, function(i) {\n",
    "  start_time <- Sys.time()\n",
    "\n",
    "  # Perform exponential smoothing on the data\n",
    "  last_smoothed_value <- smooth_heart_rate_data(heart_rate_data, alpha)\n",
    "\n",
    "  # Stop the timer\n",
    "  end_time <- Sys.time()\n",
    "  execution_time <- as.numeric(difftime(end_time, start_time, units = \"secs\"))\n",
    "  return(list(smoothed_value = last_smoothed_value, execution_time = execution_time))\n",
    "})\n",
    "\n",
    "# Stop the cluster\n",
    "stopCluster(cl)\n",
    "\n",
    "# Extract execution times and calculate the function time\n",
    "execution_times <- sapply(results, function(x) x$execution_time)\n",
    "function_time <- median(execution_times)\n",
    "\n",
    "# Print the results\n",
    "cat(\"### Dataset heart_rate_data\\n\")\n",
    "cat(\"### #3 Parallelized For Loop \\n\\n\")\n",
    "cat(\"The last smoothed value for heart_rate_data is:\", results[[1]]$smoothed_value, \"\\n\")\n",
    "cat(sprintf(\"The function was executed in %f seconds\", function_time))\n"
   ]
  },
  {
   "cell_type": "markdown",
   "metadata": {},
   "source": [
    "___\n",
    "### #4 Parallelized Vectorized"
   ]
  },
  {
   "cell_type": "code",
   "execution_count": 16,
   "metadata": {
    "vscode": {
     "languageId": "r"
    }
   },
   "outputs": [
    {
     "name": "stdout",
     "output_type": "stream",
     "text": [
      "### Dataset heart_rate_data\n",
      "### #4 Parallelized Vectorized \n",
      "\n",
      "The last smoothed value for heart_rate_data is: 98.77753 \n",
      "The function was executed in 2.974612 seconds"
     ]
    }
   ],
   "source": [
    "library(parallel)\n",
    "\n",
    "# Define the smoothing function\n",
    "smooth_heart_rate <- function(heart_rate_data, alpha) {\n",
    "    n <- length(heart_rate_data)\n",
    "    weights <- alpha * (1 - alpha) ** rev(seq_len(n) - 1)\n",
    "    smoothed <- rev(cumsum(rev(weights * heart_rate_data)))\n",
    "    smoothed_value <- smoothed[1] / sum(weights)\n",
    "    return(smoothed_value)\n",
    "}\n",
    "\n",
    "# Alpha is the smoothing factor\n",
    "alpha <- 0.7\n",
    "\n",
    "# Vector to store execution times\n",
    "number_of_executions <- 10\n",
    "execution_times <- numeric(number_of_executions)\n",
    "\n",
    "# Set up a cluster of cores\n",
    "no_cores <- detectCores() - 1  # Leave one core free for system processes\n",
    "cl <- makeCluster(no_cores)\n",
    "\n",
    "# Export the necessary variables and functions to the cluster\n",
    "clusterExport(cl, varlist = c(\"heart_rate_data\", \"alpha\", \"smooth_heart_rate_data\"))\n",
    "\n",
    "# Perform exponential smoothing on the data\n",
    "for (i in 1:number_of_executions) {\n",
    "    start_time <- Sys.time()\n",
    "\n",
    "    # Perform exponential smoothing on the data\n",
    "    last_smoothed_value <- smooth_heart_rate_data(heart_rate_data, alpha)\n",
    "\n",
    "    # Stop the timer\n",
    "    end_time <- Sys.time()\n",
    "    execution_times[i] <- as.numeric(difftime(end_time, start_time, units = \"secs\"))\n",
    "}\n",
    "\n",
    "# Calculate the function time\n",
    "function_time <- median(execution_times)\n",
    "\n",
    "# Stop the cluster\n",
    "stopCluster(cl)\n",
    "\n",
    "# Print the results\n",
    "cat(\"### Dataset heart_rate_data\\n\")\n",
    "cat(\"### #4 Parallelized Vectorized \\n\\n\")\n",
    "cat(\"The last smoothed value for heart_rate_data is:\", last_smoothed_value, \"\\n\")\n",
    "cat(sprintf(\"The function was executed in %f seconds\", function_time))\n"
   ]
  },
  {
   "cell_type": "markdown",
   "metadata": {},
   "source": [
    "___\n",
    "___"
   ]
  }
 ],
 "metadata": {
  "kernelspec": {
   "display_name": "R",
   "language": "R",
   "name": "ir"
  },
  "language_info": {
   "codemirror_mode": "r",
   "file_extension": ".r",
   "mimetype": "text/x-r-source",
   "name": "R",
   "pygments_lexer": "r",
   "version": "4.4.1"
  }
 },
 "nbformat": 4,
 "nbformat_minor": 2
}
