{
 "cells": [
  {
   "cell_type": "markdown",
   "metadata": {},
   "source": [
    "# Exponential Smoothing: Julia \n",
    "First experiments "
   ]
  },
  {
   "cell_type": "code",
   "execution_count": 1,
   "metadata": {},
   "outputs": [
    {
     "name": "stderr",
     "output_type": "stream",
     "text": [
      "\u001b[32m\u001b[1m    Updating\u001b[22m\u001b[39m registry at `~/.julia/registries/General.toml`\n",
      "\u001b[32m\u001b[1m   Resolving\u001b[22m\u001b[39m package versions...\n",
      "\u001b[32m\u001b[1m  No Changes\u001b[22m\u001b[39m to `~/.julia/environments/v1.8/Project.toml`\n",
      "\u001b[32m\u001b[1m  No Changes\u001b[22m\u001b[39m to `~/.julia/environments/v1.8/Manifest.toml`\n",
      "\u001b[32m\u001b[1m   Resolving\u001b[22m\u001b[39m package versions...\n",
      "\u001b[32m\u001b[1m  No Changes\u001b[22m\u001b[39m to `~/.julia/environments/v1.8/Project.toml`\n",
      "\u001b[32m\u001b[1m  No Changes\u001b[22m\u001b[39m to `~/.julia/environments/v1.8/Manifest.toml`\n",
      "\u001b[32m\u001b[1m   Resolving\u001b[22m\u001b[39m package versions...\n",
      "\u001b[32m\u001b[1m  No Changes\u001b[22m\u001b[39m to `~/.julia/environments/v1.8/Project.toml`\n",
      "\u001b[32m\u001b[1m  No Changes\u001b[22m\u001b[39m to `~/.julia/environments/v1.8/Manifest.toml`\n"
     ]
    }
   ],
   "source": [
    "# import packages \n",
    "import Pkg\n",
    "Pkg.add(\"CSV\")\n",
    "Pkg.add(\"DataFrames\")\n",
    "Pkg.add(\"BenchmarkTools\")"
   ]
  },
  {
   "cell_type": "markdown",
   "metadata": {},
   "source": [
    "___\n",
    "___\n",
    "## Dataset Wind Turbine: Wind Speed"
   ]
  },
  {
   "cell_type": "markdown",
   "metadata": {},
   "source": [
    "https://www.kaggle.com/datasets/berkerisen/wind-turbine-scada-dataset"
   ]
  },
  {
   "cell_type": "code",
   "execution_count": 25,
   "metadata": {},
   "outputs": [
    {
     "name": "stdout",
     "output_type": "stream",
     "text": [
      "Dataframe wind_speed has 25265000 rows.\n"
     ]
    }
   ],
   "source": [
    "#read in the time series data \n",
    "using CSV\n",
    "using DataFrames\n",
    "\n",
    "df = CSV.read(\"/Users/niklas/Documents/GitHub/Uni/10_Masterarbeit/data_files/wind_turbine_scada.csv\", DataFrame)\n",
    "\n",
    "wind_speed = df[!, 3]\n",
    "wind_speed = filter(!ismissing, wind_speed)\n",
    "\n",
    "# Replication factor\n",
    "factor = 500\n",
    "\n",
    "# Replicate the wind_speed array\n",
    "wind_speed = repeat(wind_speed, factor)\n",
    "\n",
    "println(\"Dataframe wind_speed has \", size(wind_speed, 1), \" rows.\")"
   ]
  },
  {
   "cell_type": "markdown",
   "metadata": {},
   "source": [
    "___\n",
    "### #1 Basic For Loop"
   ]
  },
  {
   "cell_type": "code",
   "execution_count": 3,
   "metadata": {},
   "outputs": [
    {
     "name": "stdout",
     "output_type": "stream",
     "text": [
      "### Dataset wind_speed\n",
      "### #1 Basic For Loop \n",
      "\n",
      "The last smoothed value for wind_speed is: 9.729056156830051\n",
      "The function was executed in 5.656255006790161 seconds\n"
     ]
    }
   ],
   "source": [
    "using Statistics\n",
    "\n",
    "# Julia array with wind_speed data\n",
    "wind_speed = Float64.(wind_speed)\n",
    "\n",
    "# Alpha is the smoothing factor.\n",
    "alpha = 0.7\n",
    "\n",
    "# List to store execution times\n",
    "number_of_executions = 10\n",
    "execution_times = []\n",
    "smoothed_value = wind_speed[1]\n",
    "\n",
    "# Perform exponential smoothing on the data\n",
    "for i in 1:number_of_executions\n",
    "    start_time = time()\n",
    "\n",
    "    # Initialize the smoothed value with the first data point\n",
    "    smoothed_value = wind_speed[1]\n",
    "\n",
    "    # Perform exponential smoothing on the data\n",
    "    for j in 2:length(wind_speed)\n",
    "        smoothed_value = alpha * wind_speed[j] + (1 - alpha) * smoothed_value\n",
    "    end\n",
    "\n",
    "    # Stop the timer\n",
    "    end_time = time()\n",
    "    push!(execution_times, end_time - start_time)\n",
    "end\n",
    "\n",
    "# Calculate the function time\n",
    "function_time = median(execution_times)\n",
    "\n",
    "# Print the results\n",
    "println(\"### Dataset wind_speed\")\n",
    "println(\"### #1 Basic For Loop \\n\")\n",
    "println(\"The last smoothed value for wind_speed is: \", smoothed_value)\n",
    "println(\"The function was executed in \", function_time, \" seconds\")\n"
   ]
  },
  {
   "cell_type": "code",
   "execution_count": 27,
   "metadata": {},
   "outputs": [
    {
     "name": "stdout",
     "output_type": "stream",
     "text": [
      "Threads.nthreads() = 1\n",
      "### Dataset wind_speed\n",
      "### #1 Basic For Loop \n",
      "\n",
      "The last smoothed value for wind_speed is: 9.729056156830051\n",
      "The function was executed in 7.895835041999817 seconds\n"
     ]
    }
   ],
   "source": [
    "using Statistics\n",
    "\n",
    "@show Threads.nthreads()\n",
    "\n",
    "# Julia array with wind_speed data\n",
    "wind_speed = Float64.(wind_speed)\n",
    "\n",
    "# Alpha is the smoothing factor.\n",
    "alpha = 0.7\n",
    "\n",
    "# List to store execution times\n",
    "number_of_executions = 10\n",
    "execution_times = []\n",
    "smoothed_value = wind_speed[1]\n",
    "\n",
    "# Perform exponential smoothing on the data\n",
    "for i in 1:number_of_executions\n",
    "    start_time = time()\n",
    "\n",
    "    # Initialize the smoothed value with the first data point\n",
    "    smoothed_value = wind_speed[1]\n",
    "\n",
    "    # Perform exponential smoothing on the data\n",
    "    for j in 2:length(wind_speed)\n",
    "        smoothed_value = alpha * wind_speed[j] + (1 - alpha) * smoothed_value\n",
    "    end\n",
    "\n",
    "    # Stop the timer\n",
    "    end_time = time()\n",
    "    push!(execution_times, end_time - start_time)\n",
    "end\n",
    "\n",
    "# Calculate the function time\n",
    "function_time = median(execution_times)\n",
    "\n",
    "# Print the results\n",
    "println(\"### Dataset wind_speed\")\n",
    "println(\"### #1 Basic For Loop \\n\")\n",
    "println(\"The last smoothed value for wind_speed is: \", smoothed_value)\n",
    "println(\"The function was executed in \", function_time, \" seconds\")\n"
   ]
  },
  {
   "cell_type": "markdown",
   "metadata": {},
   "source": [
    "___\n",
    "### #2 Vectorized"
   ]
  },
  {
   "cell_type": "code",
   "execution_count": 4,
   "metadata": {},
   "outputs": [
    {
     "name": "stdout",
     "output_type": "stream",
     "text": [
      "### Dataset wind_speed\n",
      "### #2 Vectorized \n",
      "\n",
      "The last smoothed value for wind_speed is: 9.729056156830051\n",
      "The function was executed in 2.58907949924469 seconds\n"
     ]
    }
   ],
   "source": [
    "using Statistics\n",
    "\n",
    "@show Threads.nthreads()\n",
    "\n",
    "# Julia array with wind_speed data\n",
    "wind_speed = Float64.(wind_speed)\n",
    "\n",
    "# Alpha is the smoothing factor.\n",
    "alpha = 0.7\n",
    "\n",
    "# List to store execution times\n",
    "number_of_executions = 10\n",
    "execution_times = []\n",
    "smoothed_value = wind_speed[1]\n",
    "\n",
    "# Perform exponential smoothing on the data\n",
    "for i in 1:number_of_executions\n",
    "    start_time = time()\n",
    "\n",
    "    # Perform exponential smoothing\n",
    "    weights = alpha .* (1 - alpha) .^ (length(wind_speed)-1:-1:0)\n",
    "    smoothed_values = cumsum(weights .* wind_speed) ./ cumsum(weights)\n",
    "    smoothed_value = smoothed_values[end]\n",
    "\n",
    "    # Stop the timer\n",
    "    end_time = time()\n",
    "    push!(execution_times, end_time - start_time)\n",
    "end\n",
    "\n",
    "# Calculate the function time\n",
    "function_time = median(execution_times)\n",
    "\n",
    "# Print the results\n",
    "println(\"### Dataset wind_speed\")\n",
    "println(\"### #2 Vectorized \\n\")\n",
    "println(\"The last smoothed value for wind_speed is: \", smoothed_value)\n",
    "println(\"The function was executed in \", function_time, \" seconds\")\n"
   ]
  },
  {
   "cell_type": "markdown",
   "metadata": {},
   "source": [
    "___\n",
    "### #3 Parallelized Basic For Loop"
   ]
  },
  {
   "cell_type": "code",
   "execution_count": 5,
   "metadata": {},
   "outputs": [
    {
     "name": "stdout",
     "output_type": "stream",
     "text": [
      "### Dataset wind_speed\n",
      "### #3 Parallelized Basic For Loop \n",
      "\n",
      "The last smoothed value for wind_speed is: 9.729056156830051\n",
      "The function was executed in 4.914914011955261 seconds\n"
     ]
    }
   ],
   "source": [
    "using Statistics\n",
    "\n",
    "Threads.nthreads() = 8\n",
    "@show Threads.nthreads()\n",
    "\n",
    "# Julia array with wind_speed data\n",
    "wind_speed = Float64.(wind_speed)\n",
    "\n",
    "# Alpha is the smoothing factor.\n",
    "alpha = 0.7\n",
    "\n",
    "# List to store execution times\n",
    "number_of_executions = 10\n",
    "execution_times = []\n",
    "smoothed_value = wind_speed[1]\n",
    "\n",
    "# Perform exponential smoothing on the data\n",
    "for i in 1:number_of_executions\n",
    "\n",
    "    # Initialize the smoothed value with the first data point\n",
    "    smoothed_value = wind_speed[1]\n",
    "\n",
    "    # Create an array to hold the intermediate smoothed values for each thread\n",
    "    smoothed_values = fill(smoothed_value, length(wind_speed))\n",
    "\n",
    "    start_time = time()\n",
    "\n",
    "    # Perform exponential smoothing on the data\n",
    "    Threads.@threads for j in 2:length(wind_speed)\n",
    "        smoothed_values[j] = alpha * wind_speed[j] + (1 - alpha) * smoothed_values[j-1]\n",
    "    end\n",
    "\n",
    "    # The last smoothed value is the last element of the smoothed_values array\n",
    "    smoothed_value = smoothed_values[end]\n",
    "\n",
    "    # Stop the timer\n",
    "    end_time = time()\n",
    "    push!(execution_times, end_time - start_time)\n",
    "end\n",
    "\n",
    "# Calculate the function time\n",
    "function_time = median(execution_times)\n",
    "\n",
    "# Print the results\n",
    "println(\"### Dataset wind_speed\")\n",
    "println(\"### #3 Parallelized Basic For Loop \\n\")\n",
    "println(\"The last smoothed value for wind_speed is: \", smoothed_value)\n",
    "println(\"The function was executed in \", function_time, \" seconds\")\n"
   ]
  },
  {
   "cell_type": "markdown",
   "metadata": {},
   "source": [
    "___\n",
    "### #4 Parallelized Vectorized"
   ]
  },
  {
   "cell_type": "code",
   "execution_count": 31,
   "metadata": {},
   "outputs": [
    {
     "name": "stdout",
     "output_type": "stream",
     "text": [
      "### Dataset wind_speed\n",
      "### #4 Vectorized \n",
      "\n",
      "The last smoothed value for wind_speed is: 9.729056156830051\n",
      "The function was executed in 2.8790249824523926 seconds\n"
     ]
    }
   ],
   "source": [
    "using Statistics\n",
    "\n",
    "Threads.nthreads() = 8\n",
    "@show Threads.nthreads()\n",
    "\n",
    "# Julia array with wind_speed data\n",
    "wind_speed = Float64.(wind_speed)\n",
    "\n",
    "# Alpha is the smoothing factor.\n",
    "alpha = 0.7\n",
    "\n",
    "# List to store execution times\n",
    "number_of_executions = 10\n",
    "execution_times = []\n",
    "smoothed_value = wind_speed[1]\n",
    "\n",
    "# Perform exponential smoothing on the data\n",
    "for i in 1:number_of_executions\n",
    "    start_time = time()\n",
    "\n",
    "    # Perform exponential smoothing\n",
    "    weights = alpha .* (1 - alpha) .^ (length(wind_speed)-1:-1:0)\n",
    "    smoothed_values = cumsum(weights .* wind_speed) ./ cumsum(weights)\n",
    "    smoothed_value = smoothed_values[end]\n",
    "\n",
    "    # Stop the timer\n",
    "    end_time = time()\n",
    "    push!(execution_times, end_time - start_time)\n",
    "end\n",
    "\n",
    "# Calculate the function time\n",
    "function_time = median(execution_times)\n",
    "\n",
    "# Print the results\n",
    "println(\"### Dataset wind_speed\")\n",
    "println(\"### #4 Vectorized \\n\")\n",
    "println(\"The last smoothed value for wind_speed is: \", smoothed_value)\n",
    "println(\"The function was executed in \", function_time, \" seconds\")"
   ]
  },
  {
   "cell_type": "markdown",
   "metadata": {},
   "source": [
    "___\n",
    "___\n",
    "## Dataset: Solar Energy Production"
   ]
  },
  {
   "cell_type": "code",
   "execution_count": 7,
   "metadata": {},
   "outputs": [
    {
     "name": "stdout",
     "output_type": "stream",
     "text": [
      "Dataframe column_generation_solar has 49064400 rows.\n"
     ]
    }
   ],
   "source": [
    "#read in the time series data \n",
    "using CSV\n",
    "using DataFrames\n",
    "\n",
    "df = CSV.read(\"/Users/niklas/Documents/GitHub/Uni/10_Masterarbeit/data_files/energy_dataset.csv\", DataFrame, missingstring=\" \", silencewarnings=true, types=Dict(19 => Float64))\n",
    "\n",
    "column_generation_solar = df[!, 19]\n",
    "column_generation_solar = filter(!ismissing, column_generation_solar)\n",
    "\n",
    "# Replication factor\n",
    "factor = 1400\n",
    "\n",
    "# Replicate the wind_speed array\n",
    "column_generation_solar = repeat(column_generation_solar, factor)\n",
    "\n",
    "println(\"Dataframe column_generation_solar has \", size(column_generation_solar, 1), \" rows.\")"
   ]
  },
  {
   "cell_type": "markdown",
   "metadata": {},
   "source": [
    "___\n",
    "### #1 Basic For Loop \n"
   ]
  },
  {
   "cell_type": "code",
   "execution_count": 8,
   "metadata": {},
   "outputs": [
    {
     "name": "stdout",
     "output_type": "stream",
     "text": [
      "### Dataset generation_solar\n",
      "### #1 Basic For Loop \n",
      "\n",
      "The last smoothed value for generation_solar is: 33.09027077319566\n",
      "The function was executed in 11.085314512252808 seconds\n"
     ]
    }
   ],
   "source": [
    "using Statistics\n",
    "\n",
    "@show Threads.nthreads()\n",
    "\n",
    "# Julia array with generation_solar data\n",
    "column_generation_solar = Float64.(column_generation_solar)\n",
    "\n",
    "# Alpha is the smoothing factor.\n",
    "alpha = 0.7\n",
    "\n",
    "# List to store execution times\n",
    "number_of_executions = 10\n",
    "execution_times = []\n",
    "smoothed_value = column_generation_solar[1]\n",
    "\n",
    "# Perform exponential smoothing on the data\n",
    "for i in 1:number_of_executions\n",
    "    start_time = time()\n",
    "\n",
    "    # Initialize the smoothed value with the first data point\n",
    "    smoothed_value = column_generation_solar[1]\n",
    "\n",
    "    # Perform exponential smoothing on the data\n",
    "    for j in 2:length(column_generation_solar)\n",
    "        smoothed_value = alpha * column_generation_solar[j] + (1 - alpha) * smoothed_value\n",
    "    end\n",
    "\n",
    "    # Stop the timer\n",
    "    end_time = time()\n",
    "    push!(execution_times, end_time - start_time)\n",
    "end\n",
    "\n",
    "# Calculate the function time\n",
    "function_time = mean(execution_times)\n",
    "\n",
    "# Print the results\n",
    "println(\"### Dataset generation_solar\")\n",
    "println(\"### #1 Basic For Loop \\n\")\n",
    "println(\"The last smoothed value for generation_solar is: \", smoothed_value)\n",
    "println(\"The function was executed in \", function_time, \" seconds\")\n"
   ]
  },
  {
   "cell_type": "markdown",
   "metadata": {},
   "source": [
    "___\n",
    "### #2 Vectroized "
   ]
  },
  {
   "cell_type": "code",
   "execution_count": 9,
   "metadata": {},
   "outputs": [
    {
     "name": "stdout",
     "output_type": "stream",
     "text": [
      "### Dataset generation_solar\n",
      "### #2 Vectorized \n",
      "\n",
      "The last smoothed value for generation_solar is: 33.09027077319566\n",
      "The function was executed in 5.461846470832825 seconds\n"
     ]
    }
   ],
   "source": [
    "using Statistics\n",
    "\n",
    "@show Threads.nthreads()\n",
    "\n",
    "# Julia array with column_generation_solar data\n",
    "column_generation_solar = Float64.(column_generation_solar)\n",
    "\n",
    "# Alpha is the smoothing factor.\n",
    "alpha = 0.7\n",
    "\n",
    "# List to store execution times\n",
    "number_of_executions = 10\n",
    "execution_times = []\n",
    "smoothed_value = column_generation_solar[1]\n",
    "\n",
    "# Perform exponential smoothing on the data\n",
    "for i in 1:number_of_executions\n",
    "    start_time = time()\n",
    "\n",
    "    # Perform exponential smoothing\n",
    "    weights = alpha .* (1 - alpha) .^ (length(column_generation_solar)-1:-1:0)\n",
    "    smoothed_values = cumsum(weights .* column_generation_solar) ./ cumsum(weights)\n",
    "    smoothed_value = smoothed_values[end]\n",
    "\n",
    "    # Stop the timer\n",
    "    end_time = time()\n",
    "    push!(execution_times, end_time - start_time)\n",
    "end\n",
    "\n",
    "# Calculate the function time\n",
    "function_time = mean(execution_times)\n",
    "\n",
    "# Print the results\n",
    "println(\"### Dataset generation_solar\")\n",
    "println(\"### #2 Vectorized \\n\")\n",
    "println(\"The last smoothed value for generation_solar is: \", smoothed_value)\n",
    "println(\"The function was executed in \", function_time, \" seconds\")\n"
   ]
  },
  {
   "cell_type": "markdown",
   "metadata": {},
   "source": [
    "___\n",
    "### #3 Parallelized Basic For Loop"
   ]
  },
  {
   "cell_type": "code",
   "execution_count": 10,
   "metadata": {},
   "outputs": [
    {
     "name": "stdout",
     "output_type": "stream",
     "text": [
      "### Dataset generation_solar\n",
      "### #3 Parallelized Basic For Loop \n",
      "\n",
      "The last smoothed value for generation_solar is: 33.09027077319566\n",
      "The function was executed in 9.984675407409668 seconds\n"
     ]
    }
   ],
   "source": [
    "using Statistics\n",
    "\n",
    "Threads.nthreads() = 8\n",
    "@show Threads.nthreads()\n",
    "\n",
    "# Julia array with column_generation_solar data\n",
    "column_generation_solar = Float64.(column_generation_solar)\n",
    "\n",
    "# Alpha is the smoothing factor.\n",
    "alpha = 0.7\n",
    "\n",
    "# List to store execution times\n",
    "number_of_executions = 10\n",
    "execution_times = []\n",
    "smoothed_value = column_generation_solar[1]\n",
    "\n",
    "# Perform exponential smoothing on the data\n",
    "for i in 1:number_of_executions\n",
    "    start_time = time()\n",
    "\n",
    "    # Initialize the smoothed value with the first data point\n",
    "    smoothed_value = column_generation_solar[1]\n",
    "\n",
    "    # Create an array to hold the intermediate smoothed values for each thread\n",
    "    smoothed_values = fill(smoothed_value, length(column_generation_solar))\n",
    "\n",
    "    # Perform exponential smoothing on the data\n",
    "    Threads.@threads for j in 2:length(column_generation_solar)\n",
    "        smoothed_values[j] = alpha * column_generation_solar[j] + (1 - alpha) * smoothed_values[j-1]\n",
    "    end\n",
    "\n",
    "    # The last smoothed value is the last element of the smoothed_values array\n",
    "    smoothed_value = smoothed_values[end]\n",
    "\n",
    "    # Stop the timer\n",
    "    end_time = time()\n",
    "    push!(execution_times, end_time - start_time)\n",
    "end\n",
    "\n",
    "# Calculate the function time\n",
    "function_time = mean(execution_times)\n",
    "\n",
    "# Print the results\n",
    "println(\"### Dataset generation_solar\")\n",
    "println(\"### #3 Parallelized Basic For Loop \\n\")\n",
    "println(\"The last smoothed value for generation_solar is: \", smoothed_value)\n",
    "println(\"The function was executed in \", function_time, \" seconds\")\n"
   ]
  },
  {
   "cell_type": "markdown",
   "metadata": {},
   "source": [
    "___\n",
    "### #4 Parallelized Vectorized"
   ]
  },
  {
   "cell_type": "code",
   "execution_count": 22,
   "metadata": {},
   "outputs": [
    {
     "name": "stdout",
     "output_type": "stream",
     "text": [
      "### Dataset generation_solar\n",
      "### #2 Vectorized \n",
      "\n",
      "The last smoothed value for generation_solar is: 33.09027077319566\n",
      "The function was executed in 6.6144092082977295 seconds\n"
     ]
    }
   ],
   "source": [
    "using Statistics\n",
    "\n",
    "Threads.nthreads() = 8\n",
    "@show Threads.nthreads()\n",
    "\n",
    "# Julia array with column_generation_solar data\n",
    "column_generation_solar = Float64.(column_generation_solar)\n",
    "\n",
    "# Alpha is the smoothing factor.\n",
    "alpha = 0.7\n",
    "\n",
    "# List to store execution times\n",
    "number_of_executions = 10\n",
    "execution_times = []\n",
    "smoothed_value = column_generation_solar[1]\n",
    "\n",
    "# Perform exponential smoothing on the data\n",
    "for i in 1:number_of_executions\n",
    "    start_time = time()\n",
    "\n",
    "    # Perform exponential smoothing\n",
    "    weights = alpha .* (1 - alpha) .^ (length(column_generation_solar)-1:-1:0)\n",
    "    smoothed_values = cumsum(weights .* column_generation_solar) ./ cumsum(weights)\n",
    "    smoothed_value = smoothed_values[end]\n",
    "\n",
    "    # Stop the timer\n",
    "    end_time = time()\n",
    "    push!(execution_times, end_time - start_time)\n",
    "end\n",
    "\n",
    "# Calculate the function time\n",
    "function_time = mean(execution_times)\n",
    "\n",
    "# Print the results\n",
    "println(\"### Dataset generation_solar\")\n",
    "println(\"### #2 Vectorized \\n\")\n",
    "println(\"The last smoothed value for generation_solar is: \", smoothed_value)\n",
    "println(\"The function was executed in \", function_time, \" seconds\")\n"
   ]
  },
  {
   "cell_type": "markdown",
   "metadata": {},
   "source": [
    "___\n",
    "___\n",
    "## Dataset: Heart Rate Seconds"
   ]
  },
  {
   "cell_type": "code",
   "execution_count": 12,
   "metadata": {},
   "outputs": [
    {
     "name": "stdout",
     "output_type": "stream",
     "text": [
      "Dataframe heart_rate_data has 103921290 rows.\n"
     ]
    }
   ],
   "source": [
    "#read in the time series data \n",
    "using CSV\n",
    "using DataFrames\n",
    "\n",
    "df = CSV.read(\"/Users/niklas/Documents/GitHub/Uni/10_Masterarbeit/data_files/heartrate_seconds_merged.csv\", DataFrame)\n",
    "\n",
    "heart_rate_data = df[!, 3]\n",
    "heart_rate_data = filter(!ismissing, heart_rate_data)\n",
    "\n",
    "# Replication factor\n",
    "factor = 90\n",
    "\n",
    "# Replicate the wind_speed array\n",
    "heart_rate_data = repeat(heart_rate_data, factor)\n",
    "\n",
    "println(\"Dataframe heart_rate_data has \", size(heart_rate_data, 1), \" rows.\")"
   ]
  },
  {
   "cell_type": "markdown",
   "metadata": {},
   "source": [
    "___\n",
    "### #1 Basic Foor Loop "
   ]
  },
  {
   "cell_type": "code",
   "execution_count": 13,
   "metadata": {},
   "outputs": [
    {
     "name": "stdout",
     "output_type": "stream",
     "text": [
      "### Dataset heart_rate_data\n",
      "### #1 Basic For Loop \n",
      "\n",
      "The last smoothed value for heart_rate_data is: 98.77752694571056\n",
      "The function was executed in 24.440422415733337 seconds\n"
     ]
    }
   ],
   "source": [
    "using Statistics\n",
    "\n",
    "@show Threads.nthreads()\n",
    "\n",
    "# Julia array with heart_rate_data data\n",
    "heart_rate_data = Float64.(heart_rate_data)\n",
    "\n",
    "# Alpha is the smoothing factor.\n",
    "alpha = 0.7\n",
    "\n",
    "# List to store execution times\n",
    "number_of_executions = 10\n",
    "execution_times = []\n",
    "smoothed_value = heart_rate_data[1]\n",
    "\n",
    "# Perform exponential smoothing on the data\n",
    "for i in 1:number_of_executions\n",
    "    start_time = time()\n",
    "\n",
    "    # Initialize the smoothed value with the first data point\n",
    "    smoothed_value = heart_rate_data[1]\n",
    "\n",
    "    # Perform exponential smoothing on the data\n",
    "    for j in 2:length(heart_rate_data)\n",
    "        smoothed_value = alpha * heart_rate_data[j] + (1 - alpha) * smoothed_value\n",
    "    end\n",
    "\n",
    "    # Stop the timer\n",
    "    end_time = time()\n",
    "    push!(execution_times, end_time - start_time)\n",
    "end\n",
    "\n",
    "# Calculate the function time\n",
    "function_time = median(execution_times)\n",
    "\n",
    "# Print the results\n",
    "println(\"### Dataset heart_rate_data\")\n",
    "println(\"### #1 Basic For Loop \\n\")\n",
    "println(\"The last smoothed value for heart_rate_data is: \", smoothed_value)\n",
    "println(\"The function was executed in \", function_time, \" seconds\")\n"
   ]
  },
  {
   "cell_type": "markdown",
   "metadata": {},
   "source": [
    "___\n",
    "### #2 Vectorized"
   ]
  },
  {
   "cell_type": "code",
   "execution_count": 14,
   "metadata": {},
   "outputs": [
    {
     "name": "stdout",
     "output_type": "stream",
     "text": [
      "### Dataset heart_rate_data\n",
      "### #2 Vectorized \n",
      "\n",
      "The last smoothed value for heart_rate_data is: 98.77752694571055\n",
      "The function was executed in 13.13746702671051 seconds\n"
     ]
    }
   ],
   "source": [
    "using Statistics\n",
    "\n",
    "@show Threads.nthreads()\n",
    "\n",
    "# Julia array with heart_rate_data data\n",
    "heart_rate_data = Float64.(heart_rate_data)\n",
    "\n",
    "# Alpha is the smoothing factor.\n",
    "alpha = 0.7\n",
    "\n",
    "# List to store execution times\n",
    "number_of_executions = 10\n",
    "execution_times = []\n",
    "smoothed_value = heart_rate_data[1]\n",
    "\n",
    "# Perform exponential smoothing on the data\n",
    "for i in 1:number_of_executions\n",
    "    start_time = time()\n",
    "\n",
    "    # Perform exponential smoothing\n",
    "    weights = alpha .* (1 - alpha) .^ (length(heart_rate_data)-1:-1:0)\n",
    "    smoothed_values = cumsum(weights .* heart_rate_data) ./ cumsum(weights)\n",
    "    smoothed_value = smoothed_values[end]\n",
    "\n",
    "    # Stop the timer\n",
    "    end_time = time()\n",
    "    push!(execution_times, end_time - start_time)\n",
    "end\n",
    "\n",
    "# Calculate the function time\n",
    "function_time = median(execution_times)\n",
    "\n",
    "# Print the results\n",
    "println(\"### Dataset heart_rate_data\")\n",
    "println(\"### #2 Vectorized \\n\")\n",
    "println(\"The last smoothed value for heart_rate_data is: \", smoothed_value)\n",
    "println(\"The function was executed in \", function_time, \" seconds\")\n"
   ]
  },
  {
   "cell_type": "markdown",
   "metadata": {},
   "source": [
    "___\n",
    "### #3 Parallelized Basic For Loop"
   ]
  },
  {
   "cell_type": "code",
   "execution_count": 15,
   "metadata": {},
   "outputs": [
    {
     "name": "stdout",
     "output_type": "stream",
     "text": [
      "### Dataset heart_rate_data\n",
      "### #3 Parallelized Basic For Loop \n",
      "\n",
      "The last smoothed value for heart_rate_data is: 98.77752694571056\n",
      "The function was executed in 27.48459792137146 seconds\n"
     ]
    }
   ],
   "source": [
    "using Statistics\n",
    "\n",
    "Threads.nthreads() = 8\n",
    "@show Threads.nthreads()\n",
    "\n",
    "# Julia array with heart_rate_data data\n",
    "heart_rate_data = Float64.(heart_rate_data)\n",
    "\n",
    "# Alpha is the smoothing factor.\n",
    "alpha = 0.7\n",
    "\n",
    "# List to store execution times\n",
    "number_of_executions = 1\n",
    "execution_times = []\n",
    "smoothed_value = heart_rate_data[1]\n",
    "\n",
    "# Perform exponential smoothing on the data\n",
    "for i in 1:number_of_executions\n",
    "    start_time = time()\n",
    "\n",
    "    # Initialize the smoothed value with the first data point\n",
    "    smoothed_value = heart_rate_data[1]\n",
    "\n",
    "    # Create an array to hold the intermediate smoothed values for each thread\n",
    "    smoothed_values = fill(smoothed_value, length(heart_rate_data))\n",
    "\n",
    "    # Perform exponential smoothing on the data\n",
    "    Threads.@threads for j in 2:length(heart_rate_data)\n",
    "        smoothed_values[j] = alpha * heart_rate_data[j] + (1 - alpha) * smoothed_values[j-1]\n",
    "    end\n",
    "\n",
    "    # The last smoothed value is the last element of the smoothed_values array\n",
    "    smoothed_value = smoothed_values[end]\n",
    "\n",
    "    # Stop the timer\n",
    "    end_time = time()\n",
    "    push!(execution_times, end_time - start_time)\n",
    "end\n",
    "\n",
    "# Calculate the function time\n",
    "function_time = median(execution_times)\n",
    "\n",
    "# Print the results\n",
    "println(\"### Dataset heart_rate_data\")\n",
    "println(\"### #3 Parallelized Basic For Loop \\n\")\n",
    "println(\"The last smoothed value for heart_rate_data is: \", smoothed_value)\n",
    "println(\"The function was executed in \", function_time, \" seconds\")\n"
   ]
  },
  {
   "cell_type": "markdown",
   "metadata": {},
   "source": [
    "___\n",
    "### #4 Parallelized Vectorized"
   ]
  },
  {
   "cell_type": "code",
   "execution_count": 23,
   "metadata": {},
   "outputs": [
    {
     "name": "stdout",
     "output_type": "stream",
     "text": [
      "### Dataset heart_rate_data\n",
      "### #4 Vectorized \n",
      "\n",
      "The last smoothed value for heart_rate_data is: 98.77752694571055\n",
      "The function was executed in 13.605377554893494 seconds\n"
     ]
    }
   ],
   "source": [
    "using Statistics\n",
    "\n",
    "Threads.nthreads() = 8\n",
    "@show Threads.nthreads()\n",
    "\n",
    "# Julia array with heart_rate_data data\n",
    "heart_rate_data = Float64.(heart_rate_data)\n",
    "\n",
    "# Alpha is the smoothing factor.\n",
    "alpha = 0.7\n",
    "\n",
    "# List to store execution times\n",
    "number_of_executions = 10\n",
    "execution_times = []\n",
    "smoothed_value = heart_rate_data[1]\n",
    "\n",
    "# Perform exponential smoothing on the data\n",
    "for i in 1:number_of_executions\n",
    "    start_time = time()\n",
    "\n",
    "    # Perform exponential smoothing\n",
    "    weights = alpha .* (1 - alpha) .^ (length(heart_rate_data)-1:-1:0)\n",
    "    smoothed_values = cumsum(weights .* heart_rate_data) ./ cumsum(weights)\n",
    "    smoothed_value = smoothed_values[end]\n",
    "\n",
    "    # Stop the timer\n",
    "    end_time = time()\n",
    "    push!(execution_times, end_time - start_time)\n",
    "end\n",
    "\n",
    "# Calculate the function time\n",
    "function_time = median(execution_times)\n",
    "\n",
    "# Print the results\n",
    "println(\"### Dataset heart_rate_data\")\n",
    "println(\"### #4 Vectorized \\n\")\n",
    "println(\"The last smoothed value for heart_rate_data is: \", smoothed_value)\n",
    "println(\"The function was executed in \", function_time, \" seconds\")\n"
   ]
  },
  {
   "cell_type": "markdown",
   "metadata": {},
   "source": [
    "___\n",
    "___"
   ]
  }
 ],
 "metadata": {
  "kernelspec": {
   "display_name": "Julia 1.8.3",
   "language": "julia",
   "name": "julia-1.8"
  },
  "language_info": {
   "file_extension": ".jl",
   "mimetype": "application/julia",
   "name": "julia",
   "version": "1.8.3"
  }
 },
 "nbformat": 4,
 "nbformat_minor": 2
}
