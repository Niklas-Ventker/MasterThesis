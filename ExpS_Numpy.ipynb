{
 "cells": [
  {
   "cell_type": "markdown",
   "metadata": {},
   "source": [
    "# Masterarbeit - Exponential Smoothing: Erste Experimente\n",
    "\n"
   ]
  },
  {
   "cell_type": "markdown",
   "metadata": {},
   "source": [
    "Fist experiments for baselines\n",
    "\n",
    "- Run for 2-3 different datasets \n",
    "- Run in 3 different modes: basic, vectorized, parallelized \n",
    "- Implementation for Numpy here\n",
    "- Implementation for R and Julia and SystemDS will follow"
   ]
  },
  {
   "cell_type": "code",
   "execution_count": 1,
   "metadata": {},
   "outputs": [],
   "source": [
    "import numpy as np\n",
    "import time\n",
    "import matplotlib as mpl \n",
    "from numba import jit"
   ]
  },
  {
   "cell_type": "markdown",
   "metadata": {},
   "source": [
    "___\n",
    "___\n",
    "## Wind Turbine Dataset: Wind speed"
   ]
  },
  {
   "cell_type": "markdown",
   "metadata": {},
   "source": [
    "https://www.kaggle.com/datasets/berkerisen/wind-turbine-scada-dataset"
   ]
  },
  {
   "cell_type": "code",
   "execution_count": 2,
   "metadata": {},
   "outputs": [
    {
     "name": "stdout",
     "output_type": "stream",
     "text": [
      "Dataframe wind_speed has 25265000 rows.\n"
     ]
    }
   ],
   "source": [
    "# Get the data in an numpy array \n",
    "data = np.genfromtxt('/Users/niklas/Documents/GitHub/Uni/10_Masterarbeit/data_files/wind_turbine_scada.csv', delimiter=',', skip_header=1)\n",
    "\n",
    "# Slice the data to only get the wind speed column\n",
    "wind_speed = data[:, 2]\n",
    "wind_speed = wind_speed[~np.isnan(wind_speed)]\n",
    "\n",
    "# Replication factor\n",
    "factor = 500\n",
    "base_wind_speed = wind_speed\n",
    "\n",
    "for i in range(factor - 1):\n",
    "    wind_speed = np.concatenate((wind_speed, base_wind_speed))\n",
    "\n",
    "print(f\"Dataframe wind_speed has {wind_speed.size} rows.\")"
   ]
  },
  {
   "cell_type": "markdown",
   "metadata": {},
   "source": [
    "___\n",
    "### #1 Basic For Loop "
   ]
  },
  {
   "cell_type": "code",
   "execution_count": 3,
   "metadata": {},
   "outputs": [
    {
     "name": "stdout",
     "output_type": "stream",
     "text": [
      "### Dataset wind_speed\n",
      "### #1 Basic For Loop \n",
      "\n",
      "The last smoothed value for wind_speed is: 9.729056156830051\n",
      "The function was executed in 7.859822988510132 seconds\n"
     ]
    }
   ],
   "source": [
    "# #1\n",
    "# Wind speed\n",
    "\n",
    "# Alpha is the smoothing factor.\n",
    "alpha = 0.7\n",
    "\n",
    "# List to store execution times\n",
    "number_of_executions = 10\n",
    "execution_times = []\n",
    "\n",
    "# Perform exponential smoothing on the data\n",
    "for i in range(number_of_executions):\n",
    "    start_time = time.time()\n",
    "\n",
    "    # Initialize the smoothed value first data point\n",
    "    smoothed_value = wind_speed[0]   \n",
    "\n",
    "    # Perform exponential smoothing on the data\n",
    "    for j in range(1, len(wind_speed)):\n",
    "        smoothed_value = alpha * wind_speed[j] + (1 - alpha) * smoothed_value    \n",
    "\n",
    "    # Stop the timer\n",
    "    end_time = time.time()\n",
    "    execution_times.append(end_time - start_time)\n",
    "\n",
    "# Calculate the function time\n",
    "function_time = np.median(execution_times)\n",
    "\n",
    "# Print the results\n",
    "print(\"### Dataset wind_speed\")\n",
    "print(\"### #1 Basic For Loop \\n\")\n",
    "print(\"The last smoothed value for wind_speed is:\", smoothed_value)\n",
    "print(f\"The function was executed in {function_time} seconds\")"
   ]
  },
  {
   "cell_type": "markdown",
   "metadata": {},
   "source": [
    "___\n",
    "### #2 Vectorized"
   ]
  },
  {
   "cell_type": "code",
   "execution_count": 4,
   "metadata": {},
   "outputs": [
    {
     "name": "stdout",
     "output_type": "stream",
     "text": [
      "### Dataset wind_speed\n",
      "### #2 Vectorized \n",
      "\n",
      "The last smoothed value for wind_speed is: 9.729056156830051\n",
      "The function was executed in 0.6840405464172363 seconds\n"
     ]
    }
   ],
   "source": [
    "# #2\n",
    "# Wind Speed\n",
    "\n",
    "# Alpha is the smoothing factor.\n",
    "alpha = 0.7\n",
    "\n",
    "# List to store execution times\n",
    "number_of_executions = 10\n",
    "execution_times = []\n",
    "\n",
    "# Perform exponential smoothing on the data\n",
    "for i in range(number_of_executions):\n",
    "    start_time = time.time()\n",
    "\n",
    "    # Perform exponential smoothing on the data\n",
    "    n = wind_speed.shape[0]\n",
    "    weights = alpha * (1 - alpha) ** np.arange(n)[::-1]\n",
    "    smoothed = np.cumsum(weights * wind_speed)[::-1]\n",
    "    smoothed_value = smoothed[0] / weights.sum()\n",
    "\n",
    "    # Stop the timer\n",
    "    end_time = time.time()\n",
    "    execution_times.append(end_time - start_time)\n",
    "\n",
    "# Calculate the function time\n",
    "function_time = np.median(execution_times)\n",
    "\n",
    "# Print the results\n",
    "print(\"### Dataset wind_speed\")\n",
    "print(\"### #2 Vectorized \\n\")\n",
    "print(\"The last smoothed value for wind_speed is:\", smoothed_value)\n",
    "print(f\"The function was executed in {function_time} seconds\")"
   ]
  },
  {
   "cell_type": "markdown",
   "metadata": {},
   "source": [
    "___\n",
    "### #3 Parallelized Basic For Loop"
   ]
  },
  {
   "cell_type": "code",
   "execution_count": 5,
   "metadata": {},
   "outputs": [
    {
     "name": "stdout",
     "output_type": "stream",
     "text": [
      "### Dataset wind_speed\n",
      "### #3 Parallelized Basic For Loop \n",
      "\n",
      "The last smoothed value for wind_speed is: 9.729056156830051\n",
      "The function was executed in 0.05615413188934326 seconds\n"
     ]
    }
   ],
   "source": [
    "# #3\n",
    "# Wind speed\n",
    "\n",
    "from numba import jit, prange\n",
    "\n",
    "@jit(nopython=True)\n",
    "def smooth_wind_speed(wind_speed, alpha):\n",
    "    smoothed_value = wind_speed[0]  # Initialize with the first value\n",
    "    for i in prange(1, len(wind_speed)):\n",
    "        smoothed_value = alpha * wind_speed[i] + (1 - alpha) * smoothed_value\n",
    "    return smoothed_value\n",
    "\n",
    "# Alpha is the smoothing factor.\n",
    "alpha = 0.7\n",
    "\n",
    "# List to store execution times\n",
    "number_of_executions = 10\n",
    "execution_times = []\n",
    "\n",
    "# Perform exponential smoothing on the data\n",
    "for i in range(number_of_executions):\n",
    "    start_time = time.time()\n",
    "\n",
    "    # Perform exponential smoothing on the data\n",
    "    last_smoothed_value = smooth_wind_speed(wind_speed, alpha)\n",
    "\n",
    "    # Stop the timer\n",
    "    end_time = time.time()\n",
    "    execution_times.append(end_time - start_time)\n",
    "\n",
    "# Calculate the function time\n",
    "function_time = np.median(execution_times)\n",
    "\n",
    "# Print the results\n",
    "print(\"### Dataset wind_speed\")\n",
    "print(\"### #3 Parallelized Basic For Loop \\n\")\n",
    "print(\"The last smoothed value for wind_speed is:\", last_smoothed_value)\n",
    "print(f\"The function was executed in {function_time} seconds\")"
   ]
  },
  {
   "cell_type": "markdown",
   "metadata": {},
   "source": [
    "___\n",
    "### #4 Parallelized Vectrorized"
   ]
  },
  {
   "cell_type": "code",
   "execution_count": 6,
   "metadata": {},
   "outputs": [
    {
     "name": "stderr",
     "output_type": "stream",
     "text": [
      "OMP: Info #271: omp_set_nested routine deprecated, please use omp_set_max_active_levels instead.\n"
     ]
    },
    {
     "name": "stdout",
     "output_type": "stream",
     "text": [
      "### Dataset wind_speed\n",
      "### #4 Parallelized Vectrorized \n",
      "\n",
      "The last smoothed value for wind_speed is: 9.729056156830051\n",
      "The function was executed in 0.26382601261138916 seconds\n"
     ]
    }
   ],
   "source": [
    "# #4\n",
    "# Wind speed\n",
    "\n",
    "from numba import jit, prange\n",
    "\n",
    "@jit(nopython=True, parallel=True)\n",
    "def smooth_wind_speed(wind_speed, alpha):\n",
    "    n = wind_speed.shape[0]\n",
    "    weights = alpha * (1 - alpha) ** np.arange(n)[::-1]\n",
    "    smoothed = np.cumsum(weights * wind_speed)[::-1]\n",
    "    smoothed_value = smoothed[0] / weights.sum()\n",
    "    return smoothed_value\n",
    "\n",
    "# Alpha is the smoothing factor.\n",
    "alpha = 0.7\n",
    "\n",
    "# List to store execution times\n",
    "number_of_executions = 10\n",
    "execution_times = []\n",
    "\n",
    "# Perform exponential smoothing on the data\n",
    "for i in range(number_of_executions):\n",
    "    start_time = time.time()\n",
    "\n",
    "    # Perform exponential smoothing on the data\n",
    "    last_smoothed_value = smooth_wind_speed(wind_speed, alpha)\n",
    "\n",
    "    # Stop the timer\n",
    "    end_time = time.time()\n",
    "    execution_times.append(end_time - start_time)\n",
    "\n",
    "# Calculate the function time\n",
    "function_time = np.median(execution_times)\n",
    "\n",
    "# Print the results\n",
    "print(\"### Dataset wind_speed\")\n",
    "print(\"### #4 Parallelized Vectrorized \\n\")\n",
    "print(\"The last smoothed value for wind_speed is:\", last_smoothed_value)\n",
    "print(f\"The function was executed in {function_time} seconds\")"
   ]
  },
  {
   "cell_type": "markdown",
   "metadata": {},
   "source": [
    "___\n",
    "## Energy Dataset: Solar energy production"
   ]
  },
  {
   "cell_type": "markdown",
   "metadata": {},
   "source": [
    "https://www.kaggle.com/datasets/nicholasjhana/energy-consumption-generation-prices-and-weather"
   ]
  },
  {
   "cell_type": "code",
   "execution_count": 7,
   "metadata": {},
   "outputs": [
    {
     "name": "stdout",
     "output_type": "stream",
     "text": [
      "Dataframe column_generation_solar has 49064400 rows.\n"
     ]
    }
   ],
   "source": [
    "# Get the data in an numpy array \n",
    "data = np.genfromtxt('/Users/niklas/Documents/GitHub/Uni/10_Masterarbeit/data_files/energy_dataset.csv', delimiter=',', skip_header=1)\n",
    "\n",
    "# Slice the data to only get generation_solar\n",
    "column_generation_solar = data[:, 18]\n",
    "column_generation_solar = column_generation_solar[~np.isnan(column_generation_solar)]\n",
    "\n",
    "# Replication factor\n",
    "factor = 1400\n",
    "base_column_generation_solar = column_generation_solar\n",
    "\n",
    "for i in range(factor - 1):\n",
    "    column_generation_solar = np.concatenate((column_generation_solar, base_column_generation_solar))\n",
    "\n",
    "print(f\"Dataframe column_generation_solar has {column_generation_solar.size} rows.\")"
   ]
  },
  {
   "cell_type": "markdown",
   "metadata": {},
   "source": [
    "___\n",
    "### #1 - Basic For Loop"
   ]
  },
  {
   "cell_type": "code",
   "execution_count": 8,
   "metadata": {},
   "outputs": [
    {
     "name": "stdout",
     "output_type": "stream",
     "text": [
      "### Dataset generation_solar\n",
      "### #1 Basic For Loop \n",
      "\n",
      "The last smoothed value for generation_solar is: 33.09027077319566\n",
      "The function was executed in 15.070680975914001 seconds\n"
     ]
    }
   ],
   "source": [
    "# #1\n",
    "# Energy Generation Solar\n",
    "\n",
    "# Alpha is the smoothing factor.\n",
    "alpha = 0.7\n",
    "\n",
    "# List to store execution times\n",
    "number_of_executions = 10\n",
    "execution_times = []\n",
    "\n",
    "# Perform exponential smoothing on the data\n",
    "for i in range(number_of_executions):\n",
    "    start_time = time.time()\n",
    "\n",
    "    # Initialize the smoothed value first data point\n",
    "    smoothed_value = column_generation_solar[0]   \n",
    "\n",
    "    # Perform exponential smoothing on the data\n",
    "    for j in range(1, len(column_generation_solar)):\n",
    "        smoothed_value = alpha * column_generation_solar[j] + (1 - alpha) * smoothed_value    \n",
    "\n",
    "    # Stop the timer\n",
    "    end_time = time.time()\n",
    "    execution_times.append(end_time - start_time)\n",
    "\n",
    "# Calculate the function time\n",
    "function_time = np.median(execution_times)\n",
    "\n",
    "# Print the results\n",
    "print(\"### Dataset generation_solar\")\n",
    "print(\"### #1 Basic For Loop \\n\")\n",
    "print(\"The last smoothed value for generation_solar is:\", smoothed_value)\n",
    "print(f\"The function was executed in {function_time} seconds\")"
   ]
  },
  {
   "cell_type": "markdown",
   "metadata": {},
   "source": [
    "___\n",
    "### #2: Vectorized "
   ]
  },
  {
   "cell_type": "code",
   "execution_count": 9,
   "metadata": {},
   "outputs": [
    {
     "name": "stdout",
     "output_type": "stream",
     "text": [
      "### Dataset wind_speed\n",
      "### #2 Vectorized \n",
      "\n",
      "The last smoothed value for wind_speed is: 33.090270773195684\n",
      "The function was executed in 1.4763070344924927 seconds\n"
     ]
    }
   ],
   "source": [
    "# #2\n",
    "# Wind Speed\n",
    "\n",
    "# Alpha is the smoothing factor.\n",
    "alpha = 0.7\n",
    "\n",
    "# List to store execution times\n",
    "number_of_executions = 10\n",
    "execution_times = []\n",
    "\n",
    "# Perform exponential smoothing on the data\n",
    "for i in range(number_of_executions):\n",
    "    start_time = time.time()\n",
    "\n",
    "    # Perform exponential smoothing on the data\n",
    "    n = column_generation_solar.shape[0]\n",
    "    weights = alpha * (1 - alpha) ** np.arange(n)\n",
    "    smoothed = np.cumsum(weights * column_generation_solar[::-1])[::-1]\n",
    "    smoothed_value = smoothed[0] / weights.sum()\n",
    "\n",
    "    # Stop the timer\n",
    "    end_time = time.time()\n",
    "    execution_times.append(end_time - start_time)\n",
    "\n",
    "# Calculate the function time\n",
    "function_time = np.median(execution_times)\n",
    "\n",
    "# Print the results\n",
    "print(\"### Dataset wind_speed\")\n",
    "print(\"### #2 Vectorized \\n\")\n",
    "print(\"The last smoothed value for wind_speed is:\", smoothed_value)\n",
    "print(f\"The function was executed in {function_time} seconds\")"
   ]
  },
  {
   "cell_type": "markdown",
   "metadata": {},
   "source": [
    "___\n",
    "### #3 Parallelized Basic For Loop"
   ]
  },
  {
   "cell_type": "code",
   "execution_count": 10,
   "metadata": {},
   "outputs": [
    {
     "name": "stdout",
     "output_type": "stream",
     "text": [
      "### Dataset generation_solar\n",
      "### #3 Parallelized Basic For Loop \n",
      "\n",
      "The last smoothed value for generation_solar is: 33.09027077319566\n",
      "The function was executed in 0.49577343463897705 seconds\n"
     ]
    }
   ],
   "source": [
    "# #3\n",
    "# Generation Solar Energy\n",
    "\n",
    "from numba import jit, prange\n",
    "\n",
    "@jit(nopython=True)\n",
    "def smooth_generation_solar(wind_speed, alpha):\n",
    "    smoothed_value = column_generation_solar[0]  # Initialize with the first value\n",
    "    for i in prange(1, len(column_generation_solar)):\n",
    "        smoothed_value = alpha * column_generation_solar[i] + (1 - alpha) * smoothed_value\n",
    "    return smoothed_value\n",
    "\n",
    "# Alpha is the smoothing factor.\n",
    "alpha = 0.7\n",
    "\n",
    "# List to store execution times\n",
    "number_of_executions = 10\n",
    "execution_times = []\n",
    "\n",
    "# Perform exponential smoothing on the data\n",
    "for i in range(number_of_executions):\n",
    "    start_time = time.time()\n",
    "\n",
    "    # Perform exponential smoothing on the data\n",
    "    last_smoothed_value = smooth_wind_speed(column_generation_solar, alpha)\n",
    "\n",
    "    # Stop the timer\n",
    "    end_time = time.time()\n",
    "    execution_times.append(end_time - start_time)\n",
    "\n",
    "# Calculate the function time\n",
    "function_time = np.median(execution_times)\n",
    "\n",
    "# Print the results\n",
    "print(\"### Dataset generation_solar\")\n",
    "print(\"### #3 Parallelized Basic For Loop \\n\")\n",
    "print(\"The last smoothed value for generation_solar is:\", last_smoothed_value)\n",
    "print(f\"The function was executed in {function_time} seconds\")"
   ]
  },
  {
   "cell_type": "markdown",
   "metadata": {},
   "source": [
    "___\n",
    "### #4 Paralellized Vectorized"
   ]
  },
  {
   "cell_type": "code",
   "execution_count": 11,
   "metadata": {},
   "outputs": [
    {
     "name": "stdout",
     "output_type": "stream",
     "text": [
      "### Dataset gerneration_solar\n",
      "### #4 Parallelized Vectrorized \n",
      "\n",
      "The last smoothed value for generation_solar is: 33.09027077319566\n",
      "The function was executed in 1.1732815504074097 seconds\n"
     ]
    }
   ],
   "source": [
    "# #4\n",
    "# Solar Energy\n",
    "\n",
    "from numba import jit, prange\n",
    "\n",
    "@jit(nopython=True)\n",
    "def smooth_solar_energy(column_generation_solar, alpha):\n",
    "    n = column_generation_solar.shape[0]\n",
    "    weights = alpha * (1 - alpha) ** np.arange(n)[::-1]\n",
    "    smoothed = np.cumsum(weights * column_generation_solar)[::-1]\n",
    "    smoothed_value = smoothed[0] / weights.sum()\n",
    "    return smoothed_value\n",
    "\n",
    "# Alpha is the smoothing factor.\n",
    "alpha = 0.7\n",
    "\n",
    "# List to store execution times\n",
    "number_of_executions = 10\n",
    "execution_times = []\n",
    "\n",
    "# Perform exponential smoothing on the data\n",
    "for j in range(number_of_executions):\n",
    "    start_time = time.time()\n",
    "\n",
    "    # Perform exponential smoothing on the data\n",
    "    last_smoothed_value = smooth_solar_energy(column_generation_solar, alpha)\n",
    "\n",
    "    # Stop the timer\n",
    "    end_time = time.time()\n",
    "    execution_times.append(end_time - start_time)\n",
    "\n",
    "# Calculate the function time\n",
    "function_time = np.median(execution_times)\n",
    "\n",
    "# Print the results\n",
    "print(\"### Dataset gerneration_solar\")\n",
    "print(\"### #4 Parallelized Vectrorized \\n\")\n",
    "print(\"The last smoothed value for generation_solar is:\", last_smoothed_value)\n",
    "print(f\"The function was executed in {function_time} seconds\")"
   ]
  },
  {
   "cell_type": "markdown",
   "metadata": {},
   "source": [
    "___\n",
    "___\n",
    "## HR Dataset: Heart Rate Seconds"
   ]
  },
  {
   "cell_type": "markdown",
   "metadata": {},
   "source": [
    "https://www.kaggle.com/datasets/arashnic/fitbit"
   ]
  },
  {
   "cell_type": "code",
   "execution_count": 12,
   "metadata": {},
   "outputs": [
    {
     "name": "stdout",
     "output_type": "stream",
     "text": [
      "Dataframe heart_rate_data has 103921290 rows.\n"
     ]
    }
   ],
   "source": [
    "# Get the data in an numpy array \n",
    "data = np.genfromtxt('/Users/niklas/Documents/GitHub/Uni/10_Masterarbeit/data_files/heartrate_seconds_merged.csv', delimiter=',', skip_header=1)\n",
    "\n",
    "# Slice the data to only get HR\n",
    "heart_rate_data = data[:, 2]\n",
    "heart_rate_data = heart_rate_data[~np.isnan(heart_rate_data)]\n",
    "\n",
    "# Replication factor\n",
    "factor = 90\n",
    "base_heart_rate_data = heart_rate_data\n",
    "\n",
    "for i in range(factor - 1):\n",
    "    heart_rate_data = np.concatenate((heart_rate_data, base_heart_rate_data))\n",
    "\n",
    "print(f\"Dataframe heart_rate_data has {heart_rate_data.size} rows.\")"
   ]
  },
  {
   "cell_type": "markdown",
   "metadata": {},
   "source": [
    "___\n",
    "### #1 Basic for Loop"
   ]
  },
  {
   "cell_type": "code",
   "execution_count": 13,
   "metadata": {},
   "outputs": [
    {
     "name": "stdout",
     "output_type": "stream",
     "text": [
      "### Dataset heart_rate_data\n",
      "### #1 Basic For Loop \n",
      "\n",
      "The last smoothed value for heart_rate_data is: 98.77752694571056\n",
      "The function was executed in 30.742368817329407 seconds\n"
     ]
    }
   ],
   "source": [
    "# #1\n",
    "# Heart Rate \n",
    "\n",
    "# Alpha is the smoothing factor.\n",
    "alpha = 0.7\n",
    "\n",
    "# List to store execution times\n",
    "number_of_executions = 10\n",
    "execution_times = []\n",
    "\n",
    "# Perform exponential smoothing on the data\n",
    "for i in range(number_of_executions):\n",
    "    start_time = time.time()\n",
    "\n",
    "    # Initialize the smoothed value first data point\n",
    "    smoothed_value = heart_rate_data[0]   \n",
    "\n",
    "    # Perform exponential smoothing on the data\n",
    "    for j in range(1, len(heart_rate_data)):\n",
    "        smoothed_value = alpha * heart_rate_data[j] + (1 - alpha) * smoothed_value    \n",
    "\n",
    "    # Stop the timer\n",
    "    end_time = time.time()\n",
    "    execution_times.append(end_time - start_time)\n",
    "\n",
    "# Calculate the function time\n",
    "function_time = np.median(execution_times)\n",
    "\n",
    "# Print the results\n",
    "print(\"### Dataset heart_rate_data\")\n",
    "print(\"### #1 Basic For Loop \\n\")\n",
    "print(\"The last smoothed value for heart_rate_data is:\", smoothed_value)\n",
    "print(f\"The function was executed in {function_time} seconds\")"
   ]
  },
  {
   "cell_type": "markdown",
   "metadata": {},
   "source": [
    "___\n",
    "### #2 Vectorized"
   ]
  },
  {
   "cell_type": "code",
   "execution_count": 14,
   "metadata": {},
   "outputs": [
    {
     "name": "stdout",
     "output_type": "stream",
     "text": [
      "### Dataset heart_rate_data\n",
      "### #2 Vectorized \n",
      "\n",
      "The last smoothed value for heart_rate_data is: 98.77752694571055\n",
      "The function was executed in 3.0845961570739746 seconds\n"
     ]
    }
   ],
   "source": [
    "# #2\n",
    "# Heart Rate Data \n",
    "\n",
    "# Alpha is the smoothing factor.\n",
    "alpha = 0.7\n",
    "\n",
    "# List to store execution times\n",
    "number_of_executions = 10\n",
    "execution_times = []\n",
    "\n",
    "# Perform exponential smoothing on the data\n",
    "for i in range(number_of_executions):\n",
    "    start_time = time.time()\n",
    "\n",
    "    # Perform exponential smoothing on the data\n",
    "    n = heart_rate_data.shape[0]\n",
    "    weights = alpha * (1 - alpha) ** np.arange(n)[::-1]\n",
    "    smoothed = np.cumsum(weights * heart_rate_data)[::-1]\n",
    "    smoothed_value = smoothed[0] / weights.sum()\n",
    "\n",
    "    # Stop the timer\n",
    "    end_time = time.time()\n",
    "    execution_times.append(end_time - start_time)\n",
    "\n",
    "# Calculate the function time\n",
    "function_time = np.median(execution_times)\n",
    "\n",
    "# Print the results\n",
    "print(\"### Dataset heart_rate_data\")\n",
    "print(\"### #2 Vectorized \\n\")\n",
    "print(\"The last smoothed value for heart_rate_data is:\", smoothed_value)\n",
    "print(f\"The function was executed in {function_time} seconds\")"
   ]
  },
  {
   "cell_type": "markdown",
   "metadata": {},
   "source": [
    "___\n",
    "### #3 Parallelized Basic For Loop"
   ]
  },
  {
   "cell_type": "code",
   "execution_count": 15,
   "metadata": {},
   "outputs": [
    {
     "name": "stdout",
     "output_type": "stream",
     "text": [
      "### Dataset heart_rate_data\n",
      "### #3 Parallelized Basic For Loop \n",
      "\n",
      "The last smoothed value for heart_rate_data is: 98.77752694571056\n",
      "The function was executed in 0.23646986484527588 seconds\n"
     ]
    }
   ],
   "source": [
    "# #3\n",
    "# Heart Rate Data \n",
    "\n",
    "from numba import jit, prange\n",
    "\n",
    "@jit(nopython=True)\n",
    "def smooth_heart_rate(heart_rate_data, alpha):\n",
    "    smoothed_value = heart_rate_data[0]  # Initialize with the first value\n",
    "    for i in prange(1, len(heart_rate_data)):\n",
    "        smoothed_value = alpha * heart_rate_data[i] + (1 - alpha) * smoothed_value\n",
    "    return smoothed_value\n",
    "\n",
    "# Alpha is the smoothing factor.\n",
    "alpha = 0.7\n",
    "\n",
    "# List to store execution times\n",
    "number_of_executions = 10\n",
    "execution_times = []\n",
    "\n",
    "# Perform exponential smoothing on the data\n",
    "for j in range(number_of_executions):\n",
    "    start_time = time.time()\n",
    "\n",
    "    # Perform exponential smoothing on the data\n",
    "    last_smoothed_value = smooth_heart_rate(heart_rate_data, alpha)\n",
    "\n",
    "    # Stop the timer\n",
    "    end_time = time.time()\n",
    "    execution_times.append(end_time - start_time)\n",
    "\n",
    "# Calculate the function time\n",
    "function_time = np.median(execution_times)\n",
    "\n",
    "# Print the results\n",
    "print(\"### Dataset heart_rate_data\")\n",
    "print(\"### #3 Parallelized Basic For Loop \\n\")\n",
    "print(\"The last smoothed value for heart_rate_data is:\", last_smoothed_value)\n",
    "print(f\"The function was executed in {function_time} seconds\")"
   ]
  },
  {
   "cell_type": "markdown",
   "metadata": {},
   "source": [
    "___\n",
    "### #4 Parallelized Vectorized"
   ]
  },
  {
   "cell_type": "code",
   "execution_count": 16,
   "metadata": {},
   "outputs": [
    {
     "name": "stdout",
     "output_type": "stream",
     "text": [
      "### Dataset heart_rate_data\n",
      "### #4 Parallelized Vectrorized \n",
      "\n",
      "The last smoothed value for heart_rate_data is: 98.77752694571055\n",
      "The function was executed in 2.63571560382843 seconds\n"
     ]
    }
   ],
   "source": [
    "# #4\n",
    "# Wind speed\n",
    "\n",
    "from numba import jit, prange\n",
    "\n",
    "@jit(nopython=True)\n",
    "def smooth_heart_rate(heart_rate_data, alpha):\n",
    "    n = heart_rate_data.shape[0]\n",
    "    weights = alpha * (1 - alpha) ** np.arange(n)[::-1]\n",
    "    smoothed = np.cumsum(weights * heart_rate_data)[::-1]\n",
    "    smoothed_value = smoothed[0] / weights.sum()\n",
    "    return smoothed_value\n",
    "\n",
    "# Alpha is the smoothing factor.\n",
    "alpha = 0.7\n",
    "\n",
    "# List to store execution times\n",
    "number_of_executions = 10\n",
    "execution_times = []\n",
    "\n",
    "# Perform exponential smoothing on the data\n",
    "for i in range(number_of_executions):\n",
    "    start_time = time.time()\n",
    "\n",
    "    # Perform exponential smoothing on the data\n",
    "    last_smoothed_value = smooth_heart_rate(heart_rate_data, alpha)\n",
    "\n",
    "    # Stop the timer\n",
    "    end_time = time.time()\n",
    "    execution_times.append(end_time - start_time)\n",
    "\n",
    "# Calculate the function time\n",
    "function_time = np.median(execution_times)\n",
    "\n",
    "# Print the results\n",
    "print(\"### Dataset heart_rate_data\")\n",
    "print(\"### #4 Parallelized Vectrorized \\n\")\n",
    "print(\"The last smoothed value for heart_rate_data is:\", last_smoothed_value)\n",
    "print(f\"The function was executed in {function_time} seconds\")"
   ]
  },
  {
   "cell_type": "markdown",
   "metadata": {},
   "source": [
    "___\n",
    "___"
   ]
  }
 ],
 "metadata": {
  "kernelspec": {
   "display_name": "Python 3",
   "language": "python",
   "name": "python3"
  },
  "language_info": {
   "codemirror_mode": {
    "name": "ipython",
    "version": 3
   },
   "file_extension": ".py",
   "mimetype": "text/x-python",
   "name": "python",
   "nbconvert_exporter": "python",
   "pygments_lexer": "ipython3",
   "version": "3.9.-1"
  }
 },
 "nbformat": 4,
 "nbformat_minor": 2
}
